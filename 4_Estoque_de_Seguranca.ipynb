{
  "nbformat": 4,
  "nbformat_minor": 0,
  "metadata": {
    "colab": {
      "name": "4_Estoque_de_Seguranca.ipynb",
      "provenance": [],
      "authorship_tag": "ABX9TyMzOXAIUYUH6oy7pGtLLzFt",
      "include_colab_link": true
    },
    "kernelspec": {
      "name": "python3",
      "display_name": "Python 3"
    },
    "language_info": {
      "name": "python"
    }
  },
  "cells": [
    {
      "cell_type": "markdown",
      "metadata": {
        "id": "view-in-github",
        "colab_type": "text"
      },
      "source": [
        "<a href=\"https://colab.research.google.com/github/JessicaIsabelle/Bootcamp-Data-Analytics-Womakers-Code/blob/main/4_Estoque_de_Seguranca.ipynb\" target=\"_parent\"><img src=\"https://colab.research.google.com/assets/colab-badge.svg\" alt=\"Open In Colab\"/></a>"
      ]
    },
    {
      "cell_type": "markdown",
      "source": [
        "# **Bootcamp Data Analytics 2022**\n",
        "Challenge Probabilidade e Amostragem"
      ],
      "metadata": {
        "id": "ct64scf5EjPh"
      }
    },
    {
      "cell_type": "markdown",
      "source": [
        "# DESAFIO 2 : Determinando o Estoque de Segurança"
      ],
      "metadata": {
        "id": "fO9PegSGEtO0"
      }
    },
    {
      "cell_type": "markdown",
      "source": [
        "Dados esses conceitos vamos ao passo a passo do desafio. O gerente de vendas te enviou o arquivo desafio_02_estoque.csv contendo os dados de vendas de iogurte e o lead time de 2015 a 2022.\n",
        "\n",
        "Analise os dados das vendas e do lead time. Eles seguem uma distribuição normal? Que características você identificou para chegar a essa conclusão?\n",
        "\n",
        "Assuma que:\n",
        "\n",
        "a. Os dados seguem uma distribuição normal b. O time de vendas utilize para o produto em questão o nível de serviço de 99,87% c. O produto não tem sazonalidade (todos os meses vende valores próximos) e a demanda média passada é uma boa estimativa para a projetada, de acordo com o time de planejamento de demanda. ----. Calcule, com os dados fornecidos, o estoque de segurança desejado."
      ],
      "metadata": {
        "id": "6H2cMrSmG-6f"
      }
    },
    {
      "cell_type": "markdown",
      "source": [
        "Importando bibliotecas"
      ],
      "metadata": {
        "id": "37kpYT3rE-xi"
      }
    },
    {
      "cell_type": "code",
      "source": [
        "import pandas as pd\n",
        "import numpy as np\n",
        "from scipy.stats import binom\n",
        "from scipy.stats import norm\n",
        "import seaborn as sns\n"
      ],
      "metadata": {
        "id": "nY5RZjLOFHQd"
      },
      "execution_count": null,
      "outputs": []
    },
    {
      "cell_type": "markdown",
      "source": [
        "Importando dados do excel"
      ],
      "metadata": {
        "id": "tAhBEMhMFr38"
      }
    },
    {
      "cell_type": "code",
      "source": [
        "from google.colab import drive\n",
        "drive.mount('/content/drive')"
      ],
      "metadata": {
        "colab": {
          "base_uri": "https://localhost:8080/"
        },
        "id": "V5S9W6IvyrMn",
        "outputId": "0ea4931b-0e12-4271-effb-008624eed5b4"
      },
      "execution_count": null,
      "outputs": [
        {
          "output_type": "stream",
          "name": "stdout",
          "text": [
            "Drive already mounted at /content/drive; to attempt to forcibly remount, call drive.mount(\"/content/drive\", force_remount=True).\n"
          ]
        }
      ]
    },
    {
      "cell_type": "code",
      "source": [
        "dados_estoque=pd.read_csv('/content/drive/MyDrive/Colab Notebooks/desafio_02_estoque.csv')\n",
        "dados_estoque.head(5)"
      ],
      "metadata": {
        "colab": {
          "base_uri": "https://localhost:8080/",
          "height": 206
        },
        "id": "4lFLuzv4GyMF",
        "outputId": "10ceaee8-9a1b-4068-9e82-6b0508fc3fec"
      },
      "execution_count": null,
      "outputs": [
        {
          "output_type": "execute_result",
          "data": {
            "text/plain": [
              "         data  vendas-iogurte  lead-time\n",
              "0  2015-01-04            5083          4\n",
              "1  2015-01-11            4936          3\n",
              "2  2015-01-18            5051          6\n",
              "3  2015-01-25            4846          4\n",
              "4  2015-02-01            5003          5"
            ],
            "text/html": [
              "\n",
              "  <div id=\"df-430ee16f-0d60-4836-a1da-e21836abb14b\">\n",
              "    <div class=\"colab-df-container\">\n",
              "      <div>\n",
              "<style scoped>\n",
              "    .dataframe tbody tr th:only-of-type {\n",
              "        vertical-align: middle;\n",
              "    }\n",
              "\n",
              "    .dataframe tbody tr th {\n",
              "        vertical-align: top;\n",
              "    }\n",
              "\n",
              "    .dataframe thead th {\n",
              "        text-align: right;\n",
              "    }\n",
              "</style>\n",
              "<table border=\"1\" class=\"dataframe\">\n",
              "  <thead>\n",
              "    <tr style=\"text-align: right;\">\n",
              "      <th></th>\n",
              "      <th>data</th>\n",
              "      <th>vendas-iogurte</th>\n",
              "      <th>lead-time</th>\n",
              "    </tr>\n",
              "  </thead>\n",
              "  <tbody>\n",
              "    <tr>\n",
              "      <th>0</th>\n",
              "      <td>2015-01-04</td>\n",
              "      <td>5083</td>\n",
              "      <td>4</td>\n",
              "    </tr>\n",
              "    <tr>\n",
              "      <th>1</th>\n",
              "      <td>2015-01-11</td>\n",
              "      <td>4936</td>\n",
              "      <td>3</td>\n",
              "    </tr>\n",
              "    <tr>\n",
              "      <th>2</th>\n",
              "      <td>2015-01-18</td>\n",
              "      <td>5051</td>\n",
              "      <td>6</td>\n",
              "    </tr>\n",
              "    <tr>\n",
              "      <th>3</th>\n",
              "      <td>2015-01-25</td>\n",
              "      <td>4846</td>\n",
              "      <td>4</td>\n",
              "    </tr>\n",
              "    <tr>\n",
              "      <th>4</th>\n",
              "      <td>2015-02-01</td>\n",
              "      <td>5003</td>\n",
              "      <td>5</td>\n",
              "    </tr>\n",
              "  </tbody>\n",
              "</table>\n",
              "</div>\n",
              "      <button class=\"colab-df-convert\" onclick=\"convertToInteractive('df-430ee16f-0d60-4836-a1da-e21836abb14b')\"\n",
              "              title=\"Convert this dataframe to an interactive table.\"\n",
              "              style=\"display:none;\">\n",
              "        \n",
              "  <svg xmlns=\"http://www.w3.org/2000/svg\" height=\"24px\"viewBox=\"0 0 24 24\"\n",
              "       width=\"24px\">\n",
              "    <path d=\"M0 0h24v24H0V0z\" fill=\"none\"/>\n",
              "    <path d=\"M18.56 5.44l.94 2.06.94-2.06 2.06-.94-2.06-.94-.94-2.06-.94 2.06-2.06.94zm-11 1L8.5 8.5l.94-2.06 2.06-.94-2.06-.94L8.5 2.5l-.94 2.06-2.06.94zm10 10l.94 2.06.94-2.06 2.06-.94-2.06-.94-.94-2.06-.94 2.06-2.06.94z\"/><path d=\"M17.41 7.96l-1.37-1.37c-.4-.4-.92-.59-1.43-.59-.52 0-1.04.2-1.43.59L10.3 9.45l-7.72 7.72c-.78.78-.78 2.05 0 2.83L4 21.41c.39.39.9.59 1.41.59.51 0 1.02-.2 1.41-.59l7.78-7.78 2.81-2.81c.8-.78.8-2.07 0-2.86zM5.41 20L4 18.59l7.72-7.72 1.47 1.35L5.41 20z\"/>\n",
              "  </svg>\n",
              "      </button>\n",
              "      \n",
              "  <style>\n",
              "    .colab-df-container {\n",
              "      display:flex;\n",
              "      flex-wrap:wrap;\n",
              "      gap: 12px;\n",
              "    }\n",
              "\n",
              "    .colab-df-convert {\n",
              "      background-color: #E8F0FE;\n",
              "      border: none;\n",
              "      border-radius: 50%;\n",
              "      cursor: pointer;\n",
              "      display: none;\n",
              "      fill: #1967D2;\n",
              "      height: 32px;\n",
              "      padding: 0 0 0 0;\n",
              "      width: 32px;\n",
              "    }\n",
              "\n",
              "    .colab-df-convert:hover {\n",
              "      background-color: #E2EBFA;\n",
              "      box-shadow: 0px 1px 2px rgba(60, 64, 67, 0.3), 0px 1px 3px 1px rgba(60, 64, 67, 0.15);\n",
              "      fill: #174EA6;\n",
              "    }\n",
              "\n",
              "    [theme=dark] .colab-df-convert {\n",
              "      background-color: #3B4455;\n",
              "      fill: #D2E3FC;\n",
              "    }\n",
              "\n",
              "    [theme=dark] .colab-df-convert:hover {\n",
              "      background-color: #434B5C;\n",
              "      box-shadow: 0px 1px 3px 1px rgba(0, 0, 0, 0.15);\n",
              "      filter: drop-shadow(0px 1px 2px rgba(0, 0, 0, 0.3));\n",
              "      fill: #FFFFFF;\n",
              "    }\n",
              "  </style>\n",
              "\n",
              "      <script>\n",
              "        const buttonEl =\n",
              "          document.querySelector('#df-430ee16f-0d60-4836-a1da-e21836abb14b button.colab-df-convert');\n",
              "        buttonEl.style.display =\n",
              "          google.colab.kernel.accessAllowed ? 'block' : 'none';\n",
              "\n",
              "        async function convertToInteractive(key) {\n",
              "          const element = document.querySelector('#df-430ee16f-0d60-4836-a1da-e21836abb14b');\n",
              "          const dataTable =\n",
              "            await google.colab.kernel.invokeFunction('convertToInteractive',\n",
              "                                                     [key], {});\n",
              "          if (!dataTable) return;\n",
              "\n",
              "          const docLinkHtml = 'Like what you see? Visit the ' +\n",
              "            '<a target=\"_blank\" href=https://colab.research.google.com/notebooks/data_table.ipynb>data table notebook</a>'\n",
              "            + ' to learn more about interactive tables.';\n",
              "          element.innerHTML = '';\n",
              "          dataTable['output_type'] = 'display_data';\n",
              "          await google.colab.output.renderOutput(dataTable, element);\n",
              "          const docLink = document.createElement('div');\n",
              "          docLink.innerHTML = docLinkHtml;\n",
              "          element.appendChild(docLink);\n",
              "        }\n",
              "      </script>\n",
              "    </div>\n",
              "  </div>\n",
              "  "
            ]
          },
          "metadata": {},
          "execution_count": 8
        }
      ]
    },
    {
      "cell_type": "code",
      "source": [
        "data = dados_estoque['vendas-iogurte'].groupby(pd.to_datetime(dados_estoque['data'], infer_datetime_format=True).dt.to_period(\"D\")).agg('sum') \n",
        "data.plot()"
      ],
      "metadata": {
        "colab": {
          "base_uri": "https://localhost:8080/",
          "height": 296
        },
        "id": "_ZxzrkHaHBbW",
        "outputId": "f8b04cff-4af2-4744-b663-8bb75d31584d"
      },
      "execution_count": null,
      "outputs": [
        {
          "output_type": "execute_result",
          "data": {
            "text/plain": [
              "<matplotlib.axes._subplots.AxesSubplot at 0x7fcfe88e9210>"
            ]
          },
          "metadata": {},
          "execution_count": 9
        },
        {
          "output_type": "display_data",
          "data": {
            "text/plain": [
              "<Figure size 432x288 with 1 Axes>"
            ],
            "image/png": "[encoded data removed]"
          },
          "metadata": {
            "needs_background": "light"
          }
        }
      ]
    },
    {
      "cell_type": "code",
      "source": [
        "dados_estoque['vendas-iogurte'].hist()"
      ],
      "metadata": {
        "colab": {
          "base_uri": "https://localhost:8080/",
          "height": 282
        },
        "id": "QwGD8pytHOln",
        "outputId": "2afd8339-f7eb-4e5b-a812-4c9c1b02d60f"
      },
      "execution_count": null,
      "outputs": [
        {
          "output_type": "execute_result",
          "data": {
            "text/plain": [
              "<matplotlib.axes._subplots.AxesSubplot at 0x7fcfe8806f50>"
            ]
          },
          "metadata": {},
          "execution_count": 10
        },
        {
          "output_type": "display_data",
          "data": {
            "text/plain": [
              "<Figure size 432x288 with 1 Axes>"
            ],
            "image/png": "[encoded data removed]"
          },
          "metadata": {
            "needs_background": "light"
          }
        }
      ]
    },
    {
      "cell_type": "code",
      "source": [
        "dados_estoque['lead-time'].hist()"
      ],
      "metadata": {
        "colab": {
          "base_uri": "https://localhost:8080/",
          "height": 282
        },
        "id": "AMAInVFTHSnw",
        "outputId": "efbf9ff1-bdfd-43b3-ed69-09c2c2015f0a"
      },
      "execution_count": null,
      "outputs": [
        {
          "output_type": "execute_result",
          "data": {
            "text/plain": [
              "<matplotlib.axes._subplots.AxesSubplot at 0x7fcfe8317190>"
            ]
          },
          "metadata": {},
          "execution_count": 11
        },
        {
          "output_type": "display_data",
          "data": {
            "text/plain": [
              "<Figure size 432x288 with 1 Axes>"
            ],
            "image/png": "[encoded data removed]"
          },
          "metadata": {
            "needs_background": "light"
          }
        }
      ]
    },
    {
      "cell_type": "code",
      "source": [
        "nivel_servico=0.9987\n",
        "## sem sazonalidade -> demanda=média\n",
        "## qual o estoque de segurança?\n",
        "z=norm.ppf(0.5+nivel_servico/2)\n",
        "\n",
        "\n",
        "## PRECISO AGRUPAR DATAS POR MES ANTES (Para a venda de iorgurte foi feita a soma nos meses e para o leadtime foi feito a média dos leadtimes no mes)\n",
        "dados_estoque['data'] = dados_estoque['data'].astype('datetime64')\n",
        "dados_estoque['mes_ano'] = dados_estoque['data'].map(lambda x: 100*x.year + x.month)\n",
        "vendas_mes_ano = dados_estoque.groupby(['mes_ano']).sum().reset_index()\n",
        "leadtime_mes_ano = dados_estoque.groupby(['mes_ano']).mean().reset_index()\n",
        "\n",
        "desvio_demanda=vendas_mes_ano['vendas-iogurte'].std()\n",
        "desvio_leadtime=leadtime_mes_ano['lead-time'].std()/30\n",
        "demanda=vendas_mes_ano['vendas-iogurte'].mean()\n",
        "leadtime=leadtime_mes_ano['lead-time'].mean()/30\n",
        "leadtime_dias=int(leadtime*30)\n",
        "estoque_seguranca=int(z*np.sqrt((desvio_demanda**2)*leadtime+(desvio_leadtime**2)*(demanda**2)))\n",
        "print(f'O estoque de segurança desejado para um nível de serviço de 99,87% é de {estoque_seguranca} unidades. \\n Sendo a média de vendas mensais: {demanda:,.0f} unidades, desvio da demanda: {desvio_demanda:,.1f}, leadtime: {leadtime:,.1f} meses ({leadtime_dias} dias) e desvio do leadtime: {desvio_leadtime:,.2f}.')"
      ],
      "metadata": {
        "colab": {
          "base_uri": "https://localhost:8080/"
        },
        "id": "V4BUBduNHcsf",
        "outputId": "773f3ae8-4905-4b7a-f2bf-8b9d36667c40"
      },
      "execution_count": null,
      "outputs": [
        {
          "output_type": "stream",
          "name": "stdout",
          "text": [
            "O estoque de segurança desejado para um nível de serviço de 99,87% é de 3784 unidades. \n",
            " Sendo a média de vendas mensais: 21,761 unidades, desvio da demanda: 2,442.0, leadtime: 0.2 meses (5 dias) e desvio do leadtime: 0.03.\n"
          ]
        }
      ]
    }
  ]
}