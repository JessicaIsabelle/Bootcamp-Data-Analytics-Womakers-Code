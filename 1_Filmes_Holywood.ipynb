{
  "nbformat": 4,
  "nbformat_minor": 0,
  "metadata": {
    "colab": {
      "name": "Filmes_Holywood.ipynb",
      "provenance": [],
      "collapsed_sections": [],
      "include_colab_link": true
    },
    "kernelspec": {
      "name": "python3",
      "display_name": "Python 3"
    },
    "language_info": {
      "name": "python"
    }
  },
  "cells": [
    {
      "cell_type": "markdown",
      "metadata": {
        "id": "view-in-github",
        "colab_type": "text"
      },
      "source": [
        "<a href=\"https://colab.research.google.com/github/JessicaIsabelle/Bootcamp-Data-Analytics-Womakers-Code/blob/main/Filmes_Holywood.ipynb\" target=\"_parent\"><img src=\"https://colab.research.google.com/assets/colab-badge.svg\" alt=\"Open In Colab\"/></a>"
      ]
    },
    {
      "cell_type": "markdown",
      "source": [
        "# **Frequência e Medidas com Python - Filmes Holywood**"
      ],
      "metadata": {
        "id": "nDCMq6wUUpwK"
      }
    },
    {
      "cell_type": "markdown",
      "source": [
        "Importando bibliotecas"
      ],
      "metadata": {
        "id": "ELF-YysIhvCu"
      }
    },
    {
      "cell_type": "code",
      "source": [
        "import pandas as pd\n",
        "import numpy as np\n",
        "import pandas as pd\n",
        "import matplotlib as mpl\n",
        "import matplotlib.pyplot as plt\n",
        "import seaborn as sns\n",
        "import statistics\n",
        "import warnings\n",
        "warnings.filterwarnings(\"ignore\")"
      ],
      "metadata": {
        "id": "XvOYPsnCXAJ7"
      },
      "execution_count": 62,
      "outputs": []
    },
    {
      "cell_type": "markdown",
      "source": [
        "Os dados utilizado nesse script foram baixados do kaggle no link: https://www.kaggle.com/sanjeetsinghnaik/top-1000-highest-grossing-movies\n",
        "\n",
        "\n",
        "Esse dataset contém informações sobre os 1000 filmes de Holywood com maior bilheteria, e o dicionário das variáveis está abaixo:\n",
        "\n",
        "*   ***Title*** - título do filme\n",
        "*   ***Movie Info*** - descrição do filme\n",
        "*   ***Distributor*** - distribuidora do filme\n",
        "*   ***Release Date*** - data de lançamento\n",
        "*   ***Domestic Sales*** - quantidade de bilheteria vendida nacionalmente\n",
        "*   ***International Sales*** - quantidade de bilheteria vendida internacionalmente\n",
        "*   ***World Sales*** - quantidade de bilheteria vendida mundialmente\n",
        "*   ***Genre*** - gênero do filme\n",
        "*   ***Movie Runtime*** - duração do filme\n",
        "*   ***License*** - licença do filme\n"
      ],
      "metadata": {
        "id": "rOu1W0F_VwId"
      }
    },
    {
      "cell_type": "markdown",
      "source": [
        "Importando os dados que estão em .csv"
      ],
      "metadata": {
        "id": "X04GfKXEh2sc"
      }
    },
    {
      "cell_type": "code",
      "source": [
        "data = pd.read_csv(\"Highest Holywood Grossing Movies.csv\")"
      ],
      "metadata": {
        "id": "jVM3qqL3W7oN"
      },
      "execution_count": 3,
      "outputs": []
    },
    {
      "cell_type": "markdown",
      "source": [
        "## **Qual o seu tipo de dado?**"
      ],
      "metadata": {
        "id": "kJvTIcM_UtE5"
      }
    },
    {
      "cell_type": "code",
      "source": [
        "# verificando as primeiras colunas da base de dados\n",
        "data.head()"
      ],
      "metadata": {
        "colab": {
          "base_uri": "https://localhost:8080/",
          "height": 458
        },
        "id": "awyIGzcnX5F7",
        "outputId": "8a708f9a-82e4-49f6-d6b9-00edf33765c1"
      },
      "execution_count": 4,
      "outputs": [
        {
          "output_type": "execute_result",
          "data": {
            "text/plain": [
              "   Unnamed: 0                                              Title  \\\n",
              "0           0  Star Wars: Episode VII - The Force Awakens (2015)   \n",
              "1           1                           Avengers: Endgame (2019)   \n",
              "2           2                                      Avatar (2009)   \n",
              "3           3                               Black Panther (2018)   \n",
              "4           4                      Avengers: Infinity War (2018)   \n",
              "\n",
              "                                          Movie Info  \\\n",
              "0  As a new threat to the galaxy rises, Rey, a de...   \n",
              "1  After the devastating events of Avengers: Infi...   \n",
              "2  A paraplegic Marine dispatched to the moon Pan...   \n",
              "3  T'Challa, heir to the hidden but advanced king...   \n",
              "4  The Avengers and their allies must be willing ...   \n",
              "\n",
              "                           Distributor       Release Date  \\\n",
              "0  Walt Disney Studios Motion Pictures  December 16, 2015   \n",
              "1  Walt Disney Studios Motion Pictures     April 24, 2019   \n",
              "2                Twentieth Century Fox  December 16, 2009   \n",
              "3  Walt Disney Studios Motion Pictures                NaN   \n",
              "4  Walt Disney Studios Motion Pictures                NaN   \n",
              "\n",
              "   Domestic Sales (in $)  International Sales (in $)  World Sales (in $)  \\\n",
              "0              936662225                  1132859475          2069521700   \n",
              "1              858373000                  1939128328          2797501328   \n",
              "2              760507625                  2086738578          2847246203   \n",
              "3              700426566                   647171407          1347597973   \n",
              "4              678815482                  1369544272          2048359754   \n",
              "\n",
              "                                          Genre Movie Runtime License  \n",
              "0             ['Action', 'Adventure', 'Sci-Fi']   2 hr 18 min   PG-13  \n",
              "1    ['Action', 'Adventure', 'Drama', 'Sci-Fi']    3 hr 1 min   PG-13  \n",
              "2  ['Action', 'Adventure', 'Fantasy', 'Sci-Fi']   2 hr 42 min   PG-13  \n",
              "3             ['Action', 'Adventure', 'Sci-Fi']   2 hr 14 min     NaN  \n",
              "4             ['Action', 'Adventure', 'Sci-Fi']   2 hr 29 min     NaN  "
            ],
            "text/html": [
              "\n",
              "  <div id=\"df-04b0b9b9-8312-4f25-a6bf-99016031a9b9\">\n",
              "    <div class=\"colab-df-container\">\n",
              "      <div>\n",
              "<style scoped>\n",
              "    .dataframe tbody tr th:only-of-type {\n",
              "        vertical-align: middle;\n",
              "    }\n",
              "\n",
              "    .dataframe tbody tr th {\n",
              "        vertical-align: top;\n",
              "    }\n",
              "\n",
              "    .dataframe thead th {\n",
              "        text-align: right;\n",
              "    }\n",
              "</style>\n",
              "<table border=\"1\" class=\"dataframe\">\n",
              "  <thead>\n",
              "    <tr style=\"text-align: right;\">\n",
              "      <th></th>\n",
              "      <th>Unnamed: 0</th>\n",
              "      <th>Title</th>\n",
              "      <th>Movie Info</th>\n",
              "      <th>Distributor</th>\n",
              "      <th>Release Date</th>\n",
              "      <th>Domestic Sales (in $)</th>\n",
              "      <th>International Sales (in $)</th>\n",
              "      <th>World Sales (in $)</th>\n",
              "      <th>Genre</th>\n",
              "      <th>Movie Runtime</th>\n",
              "      <th>License</th>\n",
              "    </tr>\n",
              "  </thead>\n",
              "  <tbody>\n",
              "    <tr>\n",
              "      <th>0</th>\n",
              "      <td>0</td>\n",
              "      <td>Star Wars: Episode VII - The Force Awakens (2015)</td>\n",
              "      <td>As a new threat to the galaxy rises, Rey, a de...</td>\n",
              "      <td>Walt Disney Studios Motion Pictures</td>\n",
              "      <td>December 16, 2015</td>\n",
              "      <td>936662225</td>\n",
              "      <td>1132859475</td>\n",
              "      <td>2069521700</td>\n",
              "      <td>['Action', 'Adventure', 'Sci-Fi']</td>\n",
              "      <td>2 hr 18 min</td>\n",
              "      <td>PG-13</td>\n",
              "    </tr>\n",
              "    <tr>\n",
              "      <th>1</th>\n",
              "      <td>1</td>\n",
              "      <td>Avengers: Endgame (2019)</td>\n",
              "      <td>After the devastating events of Avengers: Infi...</td>\n",
              "      <td>Walt Disney Studios Motion Pictures</td>\n",
              "      <td>April 24, 2019</td>\n",
              "      <td>858373000</td>\n",
              "      <td>1939128328</td>\n",
              "      <td>2797501328</td>\n",
              "      <td>['Action', 'Adventure', 'Drama', 'Sci-Fi']</td>\n",
              "      <td>3 hr 1 min</td>\n",
              "      <td>PG-13</td>\n",
              "    </tr>\n",
              "    <tr>\n",
              "      <th>2</th>\n",
              "      <td>2</td>\n",
              "      <td>Avatar (2009)</td>\n",
              "      <td>A paraplegic Marine dispatched to the moon Pan...</td>\n",
              "      <td>Twentieth Century Fox</td>\n",
              "      <td>December 16, 2009</td>\n",
              "      <td>760507625</td>\n",
              "      <td>2086738578</td>\n",
              "      <td>2847246203</td>\n",
              "      <td>['Action', 'Adventure', 'Fantasy', 'Sci-Fi']</td>\n",
              "      <td>2 hr 42 min</td>\n",
              "      <td>PG-13</td>\n",
              "    </tr>\n",
              "    <tr>\n",
              "      <th>3</th>\n",
              "      <td>3</td>\n",
              "      <td>Black Panther (2018)</td>\n",
              "      <td>T'Challa, heir to the hidden but advanced king...</td>\n",
              "      <td>Walt Disney Studios Motion Pictures</td>\n",
              "      <td>NaN</td>\n",
              "      <td>700426566</td>\n",
              "      <td>647171407</td>\n",
              "      <td>1347597973</td>\n",
              "      <td>['Action', 'Adventure', 'Sci-Fi']</td>\n",
              "      <td>2 hr 14 min</td>\n",
              "      <td>NaN</td>\n",
              "    </tr>\n",
              "    <tr>\n",
              "      <th>4</th>\n",
              "      <td>4</td>\n",
              "      <td>Avengers: Infinity War (2018)</td>\n",
              "      <td>The Avengers and their allies must be willing ...</td>\n",
              "      <td>Walt Disney Studios Motion Pictures</td>\n",
              "      <td>NaN</td>\n",
              "      <td>678815482</td>\n",
              "      <td>1369544272</td>\n",
              "      <td>2048359754</td>\n",
              "      <td>['Action', 'Adventure', 'Sci-Fi']</td>\n",
              "      <td>2 hr 29 min</td>\n",
              "      <td>NaN</td>\n",
              "    </tr>\n",
              "  </tbody>\n",
              "</table>\n",
              "</div>\n",
              "      <button class=\"colab-df-convert\" onclick=\"convertToInteractive('df-04b0b9b9-8312-4f25-a6bf-99016031a9b9')\"\n",
              "              title=\"Convert this dataframe to an interactive table.\"\n",
              "              style=\"display:none;\">\n",
              "        \n",
              "  <svg xmlns=\"http://www.w3.org/2000/svg\" height=\"24px\"viewBox=\"0 0 24 24\"\n",
              "       width=\"24px\">\n",
              "    <path d=\"M0 0h24v24H0V0z\" fill=\"none\"/>\n",
              "    <path d=\"M18.56 5.44l.94 2.06.94-2.06 2.06-.94-2.06-.94-.94-2.06-.94 2.06-2.06.94zm-11 1L8.5 8.5l.94-2.06 2.06-.94-2.06-.94L8.5 2.5l-.94 2.06-2.06.94zm10 10l.94 2.06.94-2.06 2.06-.94-2.06-.94-.94-2.06-.94 2.06-2.06.94z\"/><path d=\"M17.41 7.96l-1.37-1.37c-.4-.4-.92-.59-1.43-.59-.52 0-1.04.2-1.43.59L10.3 9.45l-7.72 7.72c-.78.78-.78 2.05 0 2.83L4 21.41c.39.39.9.59 1.41.59.51 0 1.02-.2 1.41-.59l7.78-7.78 2.81-2.81c.8-.78.8-2.07 0-2.86zM5.41 20L4 18.59l7.72-7.72 1.47 1.35L5.41 20z\"/>\n",
              "  </svg>\n",
              "      </button>\n",
              "      \n",
              "  <style>\n",
              "    .colab-df-container {\n",
              "      display:flex;\n",
              "      flex-wrap:wrap;\n",
              "      gap: 12px;\n",
              "    }\n",
              "\n",
              "    .colab-df-convert {\n",
              "      background-color: #E8F0FE;\n",
              "      border: none;\n",
              "      border-radius: 50%;\n",
              "      cursor: pointer;\n",
              "      display: none;\n",
              "      fill: #1967D2;\n",
              "      height: 32px;\n",
              "      padding: 0 0 0 0;\n",
              "      width: 32px;\n",
              "    }\n",
              "\n",
              "    .colab-df-convert:hover {\n",
              "      background-color: #E2EBFA;\n",
              "      box-shadow: 0px 1px 2px rgba(60, 64, 67, 0.3), 0px 1px 3px 1px rgba(60, 64, 67, 0.15);\n",
              "      fill: #174EA6;\n",
              "    }\n",
              "\n",
              "    [theme=dark] .colab-df-convert {\n",
              "      background-color: #3B4455;\n",
              "      fill: #D2E3FC;\n",
              "    }\n",
              "\n",
              "    [theme=dark] .colab-df-convert:hover {\n",
              "      background-color: #434B5C;\n",
              "      box-shadow: 0px 1px 3px 1px rgba(0, 0, 0, 0.15);\n",
              "      filter: drop-shadow(0px 1px 2px rgba(0, 0, 0, 0.3));\n",
              "      fill: #FFFFFF;\n",
              "    }\n",
              "  </style>\n",
              "\n",
              "      <script>\n",
              "        const buttonEl =\n",
              "          document.querySelector('#df-04b0b9b9-8312-4f25-a6bf-99016031a9b9 button.colab-df-convert');\n",
              "        buttonEl.style.display =\n",
              "          google.colab.kernel.accessAllowed ? 'block' : 'none';\n",
              "\n",
              "        async function convertToInteractive(key) {\n",
              "          const element = document.querySelector('#df-04b0b9b9-8312-4f25-a6bf-99016031a9b9');\n",
              "          const dataTable =\n",
              "            await google.colab.kernel.invokeFunction('convertToInteractive',\n",
              "                                                     [key], {});\n",
              "          if (!dataTable) return;\n",
              "\n",
              "          const docLinkHtml = 'Like what you see? Visit the ' +\n",
              "            '<a target=\"_blank\" href=https://colab.research.google.com/notebooks/data_table.ipynb>data table notebook</a>'\n",
              "            + ' to learn more about interactive tables.';\n",
              "          element.innerHTML = '';\n",
              "          dataTable['output_type'] = 'display_data';\n",
              "          await google.colab.output.renderOutput(dataTable, element);\n",
              "          const docLink = document.createElement('div');\n",
              "          docLink.innerHTML = docLinkHtml;\n",
              "          element.appendChild(docLink);\n",
              "        }\n",
              "      </script>\n",
              "    </div>\n",
              "  </div>\n",
              "  "
            ]
          },
          "metadata": {},
          "execution_count": 4
        }
      ]
    },
    {
      "cell_type": "code",
      "source": [
        "#Quantidade de linhas e colunas presentes na base:\n",
        "data.shape"
      ],
      "metadata": {
        "colab": {
          "base_uri": "https://localhost:8080/"
        },
        "id": "1yup52X2jd6N",
        "outputId": "a1ad5c59-4670-4e22-9d44-1e1fb0e73619"
      },
      "execution_count": 5,
      "outputs": [
        {
          "output_type": "execute_result",
          "data": {
            "text/plain": [
              "(918, 11)"
            ]
          },
          "metadata": {},
          "execution_count": 5
        }
      ]
    },
    {
      "cell_type": "code",
      "source": [
        "# Excluindo coluna \"Unnamed: 0\" pois é desnecessária\n",
        "data.drop(columns=['Unnamed: 0'])"
      ],
      "metadata": {
        "id": "ybdypSCnajQ9",
        "colab": {
          "base_uri": "https://localhost:8080/",
          "height": 832
        },
        "outputId": "52ffbdc7-a7cd-4616-afaf-85e53e7ee8bd"
      },
      "execution_count": 6,
      "outputs": [
        {
          "output_type": "execute_result",
          "data": {
            "text/plain": [
              "                                                 Title  \\\n",
              "0    Star Wars: Episode VII - The Force Awakens (2015)   \n",
              "1                             Avengers: Endgame (2019)   \n",
              "2                                        Avatar (2009)   \n",
              "3                                 Black Panther (2018)   \n",
              "4                        Avengers: Infinity War (2018)   \n",
              "..                                                 ...   \n",
              "913                                The Notebook (2004)   \n",
              "914                   Jimmy Neutron: Boy Genius (2001)   \n",
              "915                               Eat Pray Love (2010)   \n",
              "916                 The Texas Chainsaw Massacre (2003)   \n",
              "917                                   Zookeeper (2011)   \n",
              "\n",
              "                                            Movie Info  \\\n",
              "0    As a new threat to the galaxy rises, Rey, a de...   \n",
              "1    After the devastating events of Avengers: Infi...   \n",
              "2    A paraplegic Marine dispatched to the moon Pan...   \n",
              "3    T'Challa, heir to the hidden but advanced king...   \n",
              "4    The Avengers and their allies must be willing ...   \n",
              "..                                                 ...   \n",
              "913  A poor yet passionate young man falls in love ...   \n",
              "914  An eight-year-old boy genius and his friends m...   \n",
              "915  A married woman realizes how unhappy her marri...   \n",
              "916  After picking up a traumatized young hitchhike...   \n",
              "917  A group of zoo animals decide to break their c...   \n",
              "\n",
              "                             Distributor       Release Date  \\\n",
              "0    Walt Disney Studios Motion Pictures  December 16, 2015   \n",
              "1    Walt Disney Studios Motion Pictures     April 24, 2019   \n",
              "2                  Twentieth Century Fox  December 16, 2009   \n",
              "3    Walt Disney Studios Motion Pictures                NaN   \n",
              "4    Walt Disney Studios Motion Pictures                NaN   \n",
              "..                                   ...                ...   \n",
              "913                      New Line Cinema      June 25, 2004   \n",
              "914                   Paramount Pictures  December 21, 2001   \n",
              "915    Sony Pictures Entertainment (SPE)    August 13, 2010   \n",
              "916                      New Line Cinema   October 17, 2003   \n",
              "917    Sony Pictures Entertainment (SPE)       July 6, 2011   \n",
              "\n",
              "     Domestic Sales (in $)  International Sales (in $)  World Sales (in $)  \\\n",
              "0                936662225                  1132859475          2069521700   \n",
              "1                858373000                  1939128328          2797501328   \n",
              "2                760507625                  2086738578          2847246203   \n",
              "3                700426566                   647171407          1347597973   \n",
              "4                678815482                  1369544272          2048359754   \n",
              "..                     ...                         ...                 ...   \n",
              "913               81001787                    36813370           117815157   \n",
              "914               80936232                    22056304           102992536   \n",
              "915               80574010                   124020006           204594016   \n",
              "916               80571655                    26792250           107363905   \n",
              "917               80360843                    89491916           169852759   \n",
              "\n",
              "                                                 Genre Movie Runtime License  \n",
              "0                    ['Action', 'Adventure', 'Sci-Fi']   2 hr 18 min   PG-13  \n",
              "1           ['Action', 'Adventure', 'Drama', 'Sci-Fi']    3 hr 1 min   PG-13  \n",
              "2         ['Action', 'Adventure', 'Fantasy', 'Sci-Fi']   2 hr 42 min   PG-13  \n",
              "3                    ['Action', 'Adventure', 'Sci-Fi']   2 hr 14 min     NaN  \n",
              "4                    ['Action', 'Adventure', 'Sci-Fi']   2 hr 29 min     NaN  \n",
              "..                                                 ...           ...     ...  \n",
              "913                               ['Drama', 'Romance']    2 hr 3 min   PG-13  \n",
              "914  ['Action', 'Adventure', 'Animation', 'Comedy',...   1 hr 22 min     NaN  \n",
              "915                  ['Biography', 'Drama', 'Romance']   2 hr 13 min   PG-13  \n",
              "916                                ['Crime', 'Horror']   1 hr 38 min       R  \n",
              "917         ['Comedy', 'Family', 'Fantasy', 'Romance']   1 hr 42 min      PG  \n",
              "\n",
              "[918 rows x 10 columns]"
            ],
            "text/html": [
              "\n",
              "  <div id=\"df-ffc90711-4560-4ff3-a05f-e884e71b2661\">\n",
              "    <div class=\"colab-df-container\">\n",
              "      <div>\n",
              "<style scoped>\n",
              "    .dataframe tbody tr th:only-of-type {\n",
              "        vertical-align: middle;\n",
              "    }\n",
              "\n",
              "    .dataframe tbody tr th {\n",
              "        vertical-align: top;\n",
              "    }\n",
              "\n",
              "    .dataframe thead th {\n",
              "        text-align: right;\n",
              "    }\n",
              "</style>\n",
              "<table border=\"1\" class=\"dataframe\">\n",
              "  <thead>\n",
              "    <tr style=\"text-align: right;\">\n",
              "      <th></th>\n",
              "      <th>Title</th>\n",
              "      <th>Movie Info</th>\n",
              "      <th>Distributor</th>\n",
              "      <th>Release Date</th>\n",
              "      <th>Domestic Sales (in $)</th>\n",
              "      <th>International Sales (in $)</th>\n",
              "      <th>World Sales (in $)</th>\n",
              "      <th>Genre</th>\n",
              "      <th>Movie Runtime</th>\n",
              "      <th>License</th>\n",
              "    </tr>\n",
              "  </thead>\n",
              "  <tbody>\n",
              "    <tr>\n",
              "      <th>0</th>\n",
              "      <td>Star Wars: Episode VII - The Force Awakens (2015)</td>\n",
              "      <td>As a new threat to the galaxy rises, Rey, a de...</td>\n",
              "      <td>Walt Disney Studios Motion Pictures</td>\n",
              "      <td>December 16, 2015</td>\n",
              "      <td>936662225</td>\n",
              "      <td>1132859475</td>\n",
              "      <td>2069521700</td>\n",
              "      <td>['Action', 'Adventure', 'Sci-Fi']</td>\n",
              "      <td>2 hr 18 min</td>\n",
              "      <td>PG-13</td>\n",
              "    </tr>\n",
              "    <tr>\n",
              "      <th>1</th>\n",
              "      <td>Avengers: Endgame (2019)</td>\n",
              "      <td>After the devastating events of Avengers: Infi...</td>\n",
              "      <td>Walt Disney Studios Motion Pictures</td>\n",
              "      <td>April 24, 2019</td>\n",
              "      <td>858373000</td>\n",
              "      <td>1939128328</td>\n",
              "      <td>2797501328</td>\n",
              "      <td>['Action', 'Adventure', 'Drama', 'Sci-Fi']</td>\n",
              "      <td>3 hr 1 min</td>\n",
              "      <td>PG-13</td>\n",
              "    </tr>\n",
              "    <tr>\n",
              "      <th>2</th>\n",
              "      <td>Avatar (2009)</td>\n",
              "      <td>A paraplegic Marine dispatched to the moon Pan...</td>\n",
              "      <td>Twentieth Century Fox</td>\n",
              "      <td>December 16, 2009</td>\n",
              "      <td>760507625</td>\n",
              "      <td>2086738578</td>\n",
              "      <td>2847246203</td>\n",
              "      <td>['Action', 'Adventure', 'Fantasy', 'Sci-Fi']</td>\n",
              "      <td>2 hr 42 min</td>\n",
              "      <td>PG-13</td>\n",
              "    </tr>\n",
              "    <tr>\n",
              "      <th>3</th>\n",
              "      <td>Black Panther (2018)</td>\n",
              "      <td>T'Challa, heir to the hidden but advanced king...</td>\n",
              "      <td>Walt Disney Studios Motion Pictures</td>\n",
              "      <td>NaN</td>\n",
              "      <td>700426566</td>\n",
              "      <td>647171407</td>\n",
              "      <td>1347597973</td>\n",
              "      <td>['Action', 'Adventure', 'Sci-Fi']</td>\n",
              "      <td>2 hr 14 min</td>\n",
              "      <td>NaN</td>\n",
              "    </tr>\n",
              "    <tr>\n",
              "      <th>4</th>\n",
              "      <td>Avengers: Infinity War (2018)</td>\n",
              "      <td>The Avengers and their allies must be willing ...</td>\n",
              "      <td>Walt Disney Studios Motion Pictures</td>\n",
              "      <td>NaN</td>\n",
              "      <td>678815482</td>\n",
              "      <td>1369544272</td>\n",
              "      <td>2048359754</td>\n",
              "      <td>['Action', 'Adventure', 'Sci-Fi']</td>\n",
              "      <td>2 hr 29 min</td>\n",
              "      <td>NaN</td>\n",
              "    </tr>\n",
              "    <tr>\n",
              "      <th>...</th>\n",
              "      <td>...</td>\n",
              "      <td>...</td>\n",
              "      <td>...</td>\n",
              "      <td>...</td>\n",
              "      <td>...</td>\n",
              "      <td>...</td>\n",
              "      <td>...</td>\n",
              "      <td>...</td>\n",
              "      <td>...</td>\n",
              "      <td>...</td>\n",
              "    </tr>\n",
              "    <tr>\n",
              "      <th>913</th>\n",
              "      <td>The Notebook (2004)</td>\n",
              "      <td>A poor yet passionate young man falls in love ...</td>\n",
              "      <td>New Line Cinema</td>\n",
              "      <td>June 25, 2004</td>\n",
              "      <td>81001787</td>\n",
              "      <td>36813370</td>\n",
              "      <td>117815157</td>\n",
              "      <td>['Drama', 'Romance']</td>\n",
              "      <td>2 hr 3 min</td>\n",
              "      <td>PG-13</td>\n",
              "    </tr>\n",
              "    <tr>\n",
              "      <th>914</th>\n",
              "      <td>Jimmy Neutron: Boy Genius (2001)</td>\n",
              "      <td>An eight-year-old boy genius and his friends m...</td>\n",
              "      <td>Paramount Pictures</td>\n",
              "      <td>December 21, 2001</td>\n",
              "      <td>80936232</td>\n",
              "      <td>22056304</td>\n",
              "      <td>102992536</td>\n",
              "      <td>['Action', 'Adventure', 'Animation', 'Comedy',...</td>\n",
              "      <td>1 hr 22 min</td>\n",
              "      <td>NaN</td>\n",
              "    </tr>\n",
              "    <tr>\n",
              "      <th>915</th>\n",
              "      <td>Eat Pray Love (2010)</td>\n",
              "      <td>A married woman realizes how unhappy her marri...</td>\n",
              "      <td>Sony Pictures Entertainment (SPE)</td>\n",
              "      <td>August 13, 2010</td>\n",
              "      <td>80574010</td>\n",
              "      <td>124020006</td>\n",
              "      <td>204594016</td>\n",
              "      <td>['Biography', 'Drama', 'Romance']</td>\n",
              "      <td>2 hr 13 min</td>\n",
              "      <td>PG-13</td>\n",
              "    </tr>\n",
              "    <tr>\n",
              "      <th>916</th>\n",
              "      <td>The Texas Chainsaw Massacre (2003)</td>\n",
              "      <td>After picking up a traumatized young hitchhike...</td>\n",
              "      <td>New Line Cinema</td>\n",
              "      <td>October 17, 2003</td>\n",
              "      <td>80571655</td>\n",
              "      <td>26792250</td>\n",
              "      <td>107363905</td>\n",
              "      <td>['Crime', 'Horror']</td>\n",
              "      <td>1 hr 38 min</td>\n",
              "      <td>R</td>\n",
              "    </tr>\n",
              "    <tr>\n",
              "      <th>917</th>\n",
              "      <td>Zookeeper (2011)</td>\n",
              "      <td>A group of zoo animals decide to break their c...</td>\n",
              "      <td>Sony Pictures Entertainment (SPE)</td>\n",
              "      <td>July 6, 2011</td>\n",
              "      <td>80360843</td>\n",
              "      <td>89491916</td>\n",
              "      <td>169852759</td>\n",
              "      <td>['Comedy', 'Family', 'Fantasy', 'Romance']</td>\n",
              "      <td>1 hr 42 min</td>\n",
              "      <td>PG</td>\n",
              "    </tr>\n",
              "  </tbody>\n",
              "</table>\n",
              "<p>918 rows × 10 columns</p>\n",
              "</div>\n",
              "      <button class=\"colab-df-convert\" onclick=\"convertToInteractive('df-ffc90711-4560-4ff3-a05f-e884e71b2661')\"\n",
              "              title=\"Convert this dataframe to an interactive table.\"\n",
              "              style=\"display:none;\">\n",
              "        \n",
              "  <svg xmlns=\"http://www.w3.org/2000/svg\" height=\"24px\"viewBox=\"0 0 24 24\"\n",
              "       width=\"24px\">\n",
              "    <path d=\"M0 0h24v24H0V0z\" fill=\"none\"/>\n",
              "    <path d=\"M18.56 5.44l.94 2.06.94-2.06 2.06-.94-2.06-.94-.94-2.06-.94 2.06-2.06.94zm-11 1L8.5 8.5l.94-2.06 2.06-.94-2.06-.94L8.5 2.5l-.94 2.06-2.06.94zm10 10l.94 2.06.94-2.06 2.06-.94-2.06-.94-.94-2.06-.94 2.06-2.06.94z\"/><path d=\"M17.41 7.96l-1.37-1.37c-.4-.4-.92-.59-1.43-.59-.52 0-1.04.2-1.43.59L10.3 9.45l-7.72 7.72c-.78.78-.78 2.05 0 2.83L4 21.41c.39.39.9.59 1.41.59.51 0 1.02-.2 1.41-.59l7.78-7.78 2.81-2.81c.8-.78.8-2.07 0-2.86zM5.41 20L4 18.59l7.72-7.72 1.47 1.35L5.41 20z\"/>\n",
              "  </svg>\n",
              "      </button>\n",
              "      \n",
              "  <style>\n",
              "    .colab-df-container {\n",
              "      display:flex;\n",
              "      flex-wrap:wrap;\n",
              "      gap: 12px;\n",
              "    }\n",
              "\n",
              "    .colab-df-convert {\n",
              "      background-color: #E8F0FE;\n",
              "      border: none;\n",
              "      border-radius: 50%;\n",
              "      cursor: pointer;\n",
              "      display: none;\n",
              "      fill: #1967D2;\n",
              "      height: 32px;\n",
              "      padding: 0 0 0 0;\n",
              "      width: 32px;\n",
              "    }\n",
              "\n",
              "    .colab-df-convert:hover {\n",
              "      background-color: #E2EBFA;\n",
              "      box-shadow: 0px 1px 2px rgba(60, 64, 67, 0.3), 0px 1px 3px 1px rgba(60, 64, 67, 0.15);\n",
              "      fill: #174EA6;\n",
              "    }\n",
              "\n",
              "    [theme=dark] .colab-df-convert {\n",
              "      background-color: #3B4455;\n",
              "      fill: #D2E3FC;\n",
              "    }\n",
              "\n",
              "    [theme=dark] .colab-df-convert:hover {\n",
              "      background-color: #434B5C;\n",
              "      box-shadow: 0px 1px 3px 1px rgba(0, 0, 0, 0.15);\n",
              "      filter: drop-shadow(0px 1px 2px rgba(0, 0, 0, 0.3));\n",
              "      fill: #FFFFFF;\n",
              "    }\n",
              "  </style>\n",
              "\n",
              "      <script>\n",
              "        const buttonEl =\n",
              "          document.querySelector('#df-ffc90711-4560-4ff3-a05f-e884e71b2661 button.colab-df-convert');\n",
              "        buttonEl.style.display =\n",
              "          google.colab.kernel.accessAllowed ? 'block' : 'none';\n",
              "\n",
              "        async function convertToInteractive(key) {\n",
              "          const element = document.querySelector('#df-ffc90711-4560-4ff3-a05f-e884e71b2661');\n",
              "          const dataTable =\n",
              "            await google.colab.kernel.invokeFunction('convertToInteractive',\n",
              "                                                     [key], {});\n",
              "          if (!dataTable) return;\n",
              "\n",
              "          const docLinkHtml = 'Like what you see? Visit the ' +\n",
              "            '<a target=\"_blank\" href=https://colab.research.google.com/notebooks/data_table.ipynb>data table notebook</a>'\n",
              "            + ' to learn more about interactive tables.';\n",
              "          element.innerHTML = '';\n",
              "          dataTable['output_type'] = 'display_data';\n",
              "          await google.colab.output.renderOutput(dataTable, element);\n",
              "          const docLink = document.createElement('div');\n",
              "          docLink.innerHTML = docLinkHtml;\n",
              "          element.appendChild(docLink);\n",
              "        }\n",
              "      </script>\n",
              "    </div>\n",
              "  </div>\n",
              "  "
            ]
          },
          "metadata": {},
          "execution_count": 6
        }
      ]
    },
    {
      "cell_type": "code",
      "source": [
        "# Colunas que restaram\n",
        "data.columns"
      ],
      "metadata": {
        "colab": {
          "base_uri": "https://localhost:8080/"
        },
        "id": "DrhmKGKgayPM",
        "outputId": "49c57512-63d3-4d60-c834-b69803459d06"
      },
      "execution_count": 7,
      "outputs": [
        {
          "output_type": "execute_result",
          "data": {
            "text/plain": [
              "Index(['Unnamed: 0', 'Title', 'Movie Info', 'Distributor', 'Release Date',\n",
              "       'Domestic Sales (in $)', 'International Sales (in $)',\n",
              "       'World Sales (in $)', 'Genre', 'Movie Runtime', 'License'],\n",
              "      dtype='object')"
            ]
          },
          "metadata": {},
          "execution_count": 7
        }
      ]
    },
    {
      "cell_type": "code",
      "source": [
        "# Verificando o tipo das colunas\n",
        "data.dtypes"
      ],
      "metadata": {
        "colab": {
          "base_uri": "https://localhost:8080/"
        },
        "id": "6SGSGFiuZBJQ",
        "outputId": "000e70aa-de9c-4d3f-8e8f-bfe1905efe1d"
      },
      "execution_count": 8,
      "outputs": [
        {
          "output_type": "execute_result",
          "data": {
            "text/plain": [
              "Unnamed: 0                     int64\n",
              "Title                         object\n",
              "Movie Info                    object\n",
              "Distributor                   object\n",
              "Release Date                  object\n",
              "Domestic Sales (in $)          int64\n",
              "International Sales (in $)     int64\n",
              "World Sales (in $)             int64\n",
              "Genre                         object\n",
              "Movie Runtime                 object\n",
              "License                       object\n",
              "dtype: object"
            ]
          },
          "metadata": {},
          "execution_count": 8
        }
      ]
    },
    {
      "cell_type": "code",
      "source": [
        "# Mudando a coluna \"Movie Runtime\" para valores numéricos de hora: \n",
        "runtime = data['Movie Runtime'].str.split(expand=True).iloc[:,[0,2]]\n",
        "runtime[2].fillna(0, inplace=True)   #colocando 0 nos valores nulos de segundos\n",
        "runtime = runtime.astype('int64')    #convertendo para número\n",
        "runtime['hour'] = runtime[0] + runtime[2]/60\n",
        "data['Movie Runtime'] = runtime['hour']"
      ],
      "metadata": {
        "id": "awCkzI5SZZMT"
      },
      "execution_count": 9,
      "outputs": []
    },
    {
      "cell_type": "code",
      "source": [
        "# verificando o resultado\n",
        "data['Movie Runtime']"
      ],
      "metadata": {
        "colab": {
          "base_uri": "https://localhost:8080/"
        },
        "id": "i2CjSVfJbnYm",
        "outputId": "5d21949a-29f0-41de-f925-1209e66f563c"
      },
      "execution_count": 10,
      "outputs": [
        {
          "output_type": "execute_result",
          "data": {
            "text/plain": [
              "0      2.300000\n",
              "1      3.016667\n",
              "2      2.700000\n",
              "3      2.233333\n",
              "4      2.483333\n",
              "         ...   \n",
              "913    2.050000\n",
              "914    1.366667\n",
              "915    2.216667\n",
              "916    1.633333\n",
              "917    1.700000\n",
              "Name: Movie Runtime, Length: 918, dtype: float64"
            ]
          },
          "metadata": {},
          "execution_count": 10
        }
      ]
    },
    {
      "cell_type": "code",
      "source": [
        "# Mudando o tipo da variável Release Date para Datetime\n",
        "data['Release Date'] = pd.to_datetime( data['Release Date'])"
      ],
      "metadata": {
        "id": "RxsuTH_Fb1Sz"
      },
      "execution_count": 11,
      "outputs": []
    },
    {
      "cell_type": "code",
      "source": [
        "# Transformando o valor arrecadado pra milhões de dólares para melhor visualização dos valores\n",
        "data[['Domestic Sales (in $)','International Sales (in $)','World Sales (in $)']]= data[['Domestic Sales (in $)',\n",
        "                                            'International Sales (in $)','World Sales (in $)']].apply(lambda x: x/(10**6))"
      ],
      "metadata": {
        "id": "ZJxaNeVZlfmG"
      },
      "execution_count": 12,
      "outputs": []
    },
    {
      "cell_type": "code",
      "source": [
        "# Verificando essas colunas\n",
        "data[['Domestic Sales (in $)','International Sales (in $)','World Sales (in $)']].head()"
      ],
      "metadata": {
        "colab": {
          "base_uri": "https://localhost:8080/",
          "height": 206
        },
        "id": "DmtGzno5mDdb",
        "outputId": "c121b2fc-4327-4c49-f23b-388e4b699d12"
      },
      "execution_count": 13,
      "outputs": [
        {
          "output_type": "execute_result",
          "data": {
            "text/plain": [
              "   Domestic Sales (in $)  International Sales (in $)  World Sales (in $)\n",
              "0             936.662225                 1132.859475         2069.521700\n",
              "1             858.373000                 1939.128328         2797.501328\n",
              "2             760.507625                 2086.738578         2847.246203\n",
              "3             700.426566                  647.171407         1347.597973\n",
              "4             678.815482                 1369.544272         2048.359754"
            ],
            "text/html": [
              "\n",
              "  <div id=\"df-428ad7b9-c4a2-47be-a302-c934898642de\">\n",
              "    <div class=\"colab-df-container\">\n",
              "      <div>\n",
              "<style scoped>\n",
              "    .dataframe tbody tr th:only-of-type {\n",
              "        vertical-align: middle;\n",
              "    }\n",
              "\n",
              "    .dataframe tbody tr th {\n",
              "        vertical-align: top;\n",
              "    }\n",
              "\n",
              "    .dataframe thead th {\n",
              "        text-align: right;\n",
              "    }\n",
              "</style>\n",
              "<table border=\"1\" class=\"dataframe\">\n",
              "  <thead>\n",
              "    <tr style=\"text-align: right;\">\n",
              "      <th></th>\n",
              "      <th>Domestic Sales (in $)</th>\n",
              "      <th>International Sales (in $)</th>\n",
              "      <th>World Sales (in $)</th>\n",
              "    </tr>\n",
              "  </thead>\n",
              "  <tbody>\n",
              "    <tr>\n",
              "      <th>0</th>\n",
              "      <td>936.662225</td>\n",
              "      <td>1132.859475</td>\n",
              "      <td>2069.521700</td>\n",
              "    </tr>\n",
              "    <tr>\n",
              "      <th>1</th>\n",
              "      <td>858.373000</td>\n",
              "      <td>1939.128328</td>\n",
              "      <td>2797.501328</td>\n",
              "    </tr>\n",
              "    <tr>\n",
              "      <th>2</th>\n",
              "      <td>760.507625</td>\n",
              "      <td>2086.738578</td>\n",
              "      <td>2847.246203</td>\n",
              "    </tr>\n",
              "    <tr>\n",
              "      <th>3</th>\n",
              "      <td>700.426566</td>\n",
              "      <td>647.171407</td>\n",
              "      <td>1347.597973</td>\n",
              "    </tr>\n",
              "    <tr>\n",
              "      <th>4</th>\n",
              "      <td>678.815482</td>\n",
              "      <td>1369.544272</td>\n",
              "      <td>2048.359754</td>\n",
              "    </tr>\n",
              "  </tbody>\n",
              "</table>\n",
              "</div>\n",
              "      <button class=\"colab-df-convert\" onclick=\"convertToInteractive('df-428ad7b9-c4a2-47be-a302-c934898642de')\"\n",
              "              title=\"Convert this dataframe to an interactive table.\"\n",
              "              style=\"display:none;\">\n",
              "        \n",
              "  <svg xmlns=\"http://www.w3.org/2000/svg\" height=\"24px\"viewBox=\"0 0 24 24\"\n",
              "       width=\"24px\">\n",
              "    <path d=\"M0 0h24v24H0V0z\" fill=\"none\"/>\n",
              "    <path d=\"M18.56 5.44l.94 2.06.94-2.06 2.06-.94-2.06-.94-.94-2.06-.94 2.06-2.06.94zm-11 1L8.5 8.5l.94-2.06 2.06-.94-2.06-.94L8.5 2.5l-.94 2.06-2.06.94zm10 10l.94 2.06.94-2.06 2.06-.94-2.06-.94-.94-2.06-.94 2.06-2.06.94z\"/><path d=\"M17.41 7.96l-1.37-1.37c-.4-.4-.92-.59-1.43-.59-.52 0-1.04.2-1.43.59L10.3 9.45l-7.72 7.72c-.78.78-.78 2.05 0 2.83L4 21.41c.39.39.9.59 1.41.59.51 0 1.02-.2 1.41-.59l7.78-7.78 2.81-2.81c.8-.78.8-2.07 0-2.86zM5.41 20L4 18.59l7.72-7.72 1.47 1.35L5.41 20z\"/>\n",
              "  </svg>\n",
              "      </button>\n",
              "      \n",
              "  <style>\n",
              "    .colab-df-container {\n",
              "      display:flex;\n",
              "      flex-wrap:wrap;\n",
              "      gap: 12px;\n",
              "    }\n",
              "\n",
              "    .colab-df-convert {\n",
              "      background-color: #E8F0FE;\n",
              "      border: none;\n",
              "      border-radius: 50%;\n",
              "      cursor: pointer;\n",
              "      display: none;\n",
              "      fill: #1967D2;\n",
              "      height: 32px;\n",
              "      padding: 0 0 0 0;\n",
              "      width: 32px;\n",
              "    }\n",
              "\n",
              "    .colab-df-convert:hover {\n",
              "      background-color: #E2EBFA;\n",
              "      box-shadow: 0px 1px 2px rgba(60, 64, 67, 0.3), 0px 1px 3px 1px rgba(60, 64, 67, 0.15);\n",
              "      fill: #174EA6;\n",
              "    }\n",
              "\n",
              "    [theme=dark] .colab-df-convert {\n",
              "      background-color: #3B4455;\n",
              "      fill: #D2E3FC;\n",
              "    }\n",
              "\n",
              "    [theme=dark] .colab-df-convert:hover {\n",
              "      background-color: #434B5C;\n",
              "      box-shadow: 0px 1px 3px 1px rgba(0, 0, 0, 0.15);\n",
              "      filter: drop-shadow(0px 1px 2px rgba(0, 0, 0, 0.3));\n",
              "      fill: #FFFFFF;\n",
              "    }\n",
              "  </style>\n",
              "\n",
              "      <script>\n",
              "        const buttonEl =\n",
              "          document.querySelector('#df-428ad7b9-c4a2-47be-a302-c934898642de button.colab-df-convert');\n",
              "        buttonEl.style.display =\n",
              "          google.colab.kernel.accessAllowed ? 'block' : 'none';\n",
              "\n",
              "        async function convertToInteractive(key) {\n",
              "          const element = document.querySelector('#df-428ad7b9-c4a2-47be-a302-c934898642de');\n",
              "          const dataTable =\n",
              "            await google.colab.kernel.invokeFunction('convertToInteractive',\n",
              "                                                     [key], {});\n",
              "          if (!dataTable) return;\n",
              "\n",
              "          const docLinkHtml = 'Like what you see? Visit the ' +\n",
              "            '<a target=\"_blank\" href=https://colab.research.google.com/notebooks/data_table.ipynb>data table notebook</a>'\n",
              "            + ' to learn more about interactive tables.';\n",
              "          element.innerHTML = '';\n",
              "          dataTable['output_type'] = 'display_data';\n",
              "          await google.colab.output.renderOutput(dataTable, element);\n",
              "          const docLink = document.createElement('div');\n",
              "          docLink.innerHTML = docLinkHtml;\n",
              "          element.appendChild(docLink);\n",
              "        }\n",
              "      </script>\n",
              "    </div>\n",
              "  </div>\n",
              "  "
            ]
          },
          "metadata": {},
          "execution_count": 13
        }
      ]
    },
    {
      "cell_type": "code",
      "source": [
        "# verificando novamente o tipo das colunas\n",
        "data.info()"
      ],
      "metadata": {
        "colab": {
          "base_uri": "https://localhost:8080/"
        },
        "id": "6BZh10xDcB-y",
        "outputId": "d3565b06-07e3-4fd6-d758-1ee9aa420e39"
      },
      "execution_count": 14,
      "outputs": [
        {
          "output_type": "stream",
          "name": "stdout",
          "text": [
            "<class 'pandas.core.frame.DataFrame'>\n",
            "RangeIndex: 918 entries, 0 to 917\n",
            "Data columns (total 11 columns):\n",
            " #   Column                      Non-Null Count  Dtype         \n",
            "---  ------                      --------------  -----         \n",
            " 0   Unnamed: 0                  918 non-null    int64         \n",
            " 1   Title                       918 non-null    object        \n",
            " 2   Movie Info                  918 non-null    object        \n",
            " 3   Distributor                 918 non-null    object        \n",
            " 4   Release Date                800 non-null    datetime64[ns]\n",
            " 5   Domestic Sales (in $)       918 non-null    float64       \n",
            " 6   International Sales (in $)  918 non-null    float64       \n",
            " 7   World Sales (in $)          918 non-null    float64       \n",
            " 8   Genre                       918 non-null    object        \n",
            " 9   Movie Runtime               918 non-null    float64       \n",
            " 10  License                     744 non-null    object        \n",
            "dtypes: datetime64[ns](1), float64(4), int64(1), object(5)\n",
            "memory usage: 79.0+ KB\n"
          ]
        }
      ]
    },
    {
      "cell_type": "markdown",
      "source": [
        "As variáveis qualitativas na base de dados são: 'Title', 'Movie Info', 'Distributor', 'Genre', 'License'.\n",
        "\n"
      ],
      "metadata": {
        "id": "J9wCNUtzhrKH"
      }
    },
    {
      "cell_type": "markdown",
      "source": [
        "As variáveis quantitativas na base de dados são: \n",
        "       'Domestic Sales (in $)', 'International Sales (in $)',\n",
        "       'World Sales (in $)', 'Movie Runtime'"
      ],
      "metadata": {
        "id": "fZgOREoNjsAq"
      }
    },
    {
      "cell_type": "markdown",
      "source": [
        "## **Distribuição de frequência**"
      ],
      "metadata": {
        "id": "f8DJsgZxVBUs"
      }
    },
    {
      "cell_type": "markdown",
      "source": [
        "### **Variáveis Qualitativas**"
      ],
      "metadata": {
        "id": "lURsqDWLhRoA"
      }
    },
    {
      "cell_type": "markdown",
      "source": [
        "Vamos verificar quantos filmes de cada distribuidora estão na base de dados."
      ],
      "metadata": {
        "id": "O9HtgUCWaIkF"
      }
    },
    {
      "cell_type": "code",
      "source": [
        "# vamos fazer uma tabela de frequência\n",
        "distribuidor=pd.crosstab(index = data[\"Distributor\"], columns=\"Qtd_filmes\").sort_values('Qtd_filmes', ascending = False)\n",
        "distribuidor"
      ],
      "metadata": {
        "colab": {
          "base_uri": "https://localhost:8080/",
          "height": 1000
        },
        "id": "kD60hUO6Z2je",
        "outputId": "8fe9e260-c977-4176-ac3c-3c8d9b2149a0"
      },
      "execution_count": 82,
      "outputs": [
        {
          "output_type": "execute_result",
          "data": {
            "text/plain": [
              "col_0                                Qtd_filmes\n",
              "Distributor                                    \n",
              "Warner Bros.                                158\n",
              "Walt Disney Studios Motion Pictures         155\n",
              "Universal Pictures                          119\n",
              "Twentieth Century Fox                       117\n",
              "Sony Pictures Entertainment (SPE)           101\n",
              "Paramount Pictures                           99\n",
              "New Line Cinema                              21\n",
              "DreamWorks                                   21\n",
              "Lionsgate                                    19\n",
              "DreamWorks Distribution                      17\n",
              "Metro-Goldwyn-Mayer (MGM)                    12\n",
              "TriStar Pictures                              9\n",
              "Miramax                                       9\n",
              "Revolution Studios                            8\n",
              "Columbia Pictures                             7\n",
              "Dimension Films                               7\n",
              "The Weinstein Company                         6\n",
              "Summit Entertainment                          5\n",
              "Fox Searchlight Pictures                      4\n",
              "Orion Pictures                                3\n",
              "STX Entertainment                             3\n",
              "Screen Gems                                   3\n",
              "Focus Features                                2\n",
              "United Artists                                2\n",
              "FilmDistrict                                  2\n",
              "USA Films                                     1\n",
              "United Artists Releasing                      1\n",
              "20th Century Studios                          1\n",
              "Sony Pictures Classics                        1\n",
              "Roadside Attractions                          1\n",
              "Artisan Entertainment                         1\n",
              "Newmarket Films                               1\n",
              "IFC Films                                     1\n",
              "Relativity Media                              1"
            ],
            "text/html": [
              "\n",
              "  <div id=\"df-e7d54ffc-249e-4cd2-b4c2-8c5eee1fdf69\">\n",
              "    <div class=\"colab-df-container\">\n",
              "      <div>\n",
              "<style scoped>\n",
              "    .dataframe tbody tr th:only-of-type {\n",
              "        vertical-align: middle;\n",
              "    }\n",
              "\n",
              "    .dataframe tbody tr th {\n",
              "        vertical-align: top;\n",
              "    }\n",
              "\n",
              "    .dataframe thead th {\n",
              "        text-align: right;\n",
              "    }\n",
              "</style>\n",
              "<table border=\"1\" class=\"dataframe\">\n",
              "  <thead>\n",
              "    <tr style=\"text-align: right;\">\n",
              "      <th>col_0</th>\n",
              "      <th>Qtd_filmes</th>\n",
              "    </tr>\n",
              "    <tr>\n",
              "      <th>Distributor</th>\n",
              "      <th></th>\n",
              "    </tr>\n",
              "  </thead>\n",
              "  <tbody>\n",
              "    <tr>\n",
              "      <th>Warner Bros.</th>\n",
              "      <td>158</td>\n",
              "    </tr>\n",
              "    <tr>\n",
              "      <th>Walt Disney Studios Motion Pictures</th>\n",
              "      <td>155</td>\n",
              "    </tr>\n",
              "    <tr>\n",
              "      <th>Universal Pictures</th>\n",
              "      <td>119</td>\n",
              "    </tr>\n",
              "    <tr>\n",
              "      <th>Twentieth Century Fox</th>\n",
              "      <td>117</td>\n",
              "    </tr>\n",
              "    <tr>\n",
              "      <th>Sony Pictures Entertainment (SPE)</th>\n",
              "      <td>101</td>\n",
              "    </tr>\n",
              "    <tr>\n",
              "      <th>Paramount Pictures</th>\n",
              "      <td>99</td>\n",
              "    </tr>\n",
              "    <tr>\n",
              "      <th>New Line Cinema</th>\n",
              "      <td>21</td>\n",
              "    </tr>\n",
              "    <tr>\n",
              "      <th>DreamWorks</th>\n",
              "      <td>21</td>\n",
              "    </tr>\n",
              "    <tr>\n",
              "      <th>Lionsgate</th>\n",
              "      <td>19</td>\n",
              "    </tr>\n",
              "    <tr>\n",
              "      <th>DreamWorks Distribution</th>\n",
              "      <td>17</td>\n",
              "    </tr>\n",
              "    <tr>\n",
              "      <th>Metro-Goldwyn-Mayer (MGM)</th>\n",
              "      <td>12</td>\n",
              "    </tr>\n",
              "    <tr>\n",
              "      <th>TriStar Pictures</th>\n",
              "      <td>9</td>\n",
              "    </tr>\n",
              "    <tr>\n",
              "      <th>Miramax</th>\n",
              "      <td>9</td>\n",
              "    </tr>\n",
              "    <tr>\n",
              "      <th>Revolution Studios</th>\n",
              "      <td>8</td>\n",
              "    </tr>\n",
              "    <tr>\n",
              "      <th>Columbia Pictures</th>\n",
              "      <td>7</td>\n",
              "    </tr>\n",
              "    <tr>\n",
              "      <th>Dimension Films</th>\n",
              "      <td>7</td>\n",
              "    </tr>\n",
              "    <tr>\n",
              "      <th>The Weinstein Company</th>\n",
              "      <td>6</td>\n",
              "    </tr>\n",
              "    <tr>\n",
              "      <th>Summit Entertainment</th>\n",
              "      <td>5</td>\n",
              "    </tr>\n",
              "    <tr>\n",
              "      <th>Fox Searchlight Pictures</th>\n",
              "      <td>4</td>\n",
              "    </tr>\n",
              "    <tr>\n",
              "      <th>Orion Pictures</th>\n",
              "      <td>3</td>\n",
              "    </tr>\n",
              "    <tr>\n",
              "      <th>STX Entertainment</th>\n",
              "      <td>3</td>\n",
              "    </tr>\n",
              "    <tr>\n",
              "      <th>Screen Gems</th>\n",
              "      <td>3</td>\n",
              "    </tr>\n",
              "    <tr>\n",
              "      <th>Focus Features</th>\n",
              "      <td>2</td>\n",
              "    </tr>\n",
              "    <tr>\n",
              "      <th>United Artists</th>\n",
              "      <td>2</td>\n",
              "    </tr>\n",
              "    <tr>\n",
              "      <th>FilmDistrict</th>\n",
              "      <td>2</td>\n",
              "    </tr>\n",
              "    <tr>\n",
              "      <th>USA Films</th>\n",
              "      <td>1</td>\n",
              "    </tr>\n",
              "    <tr>\n",
              "      <th>United Artists Releasing</th>\n",
              "      <td>1</td>\n",
              "    </tr>\n",
              "    <tr>\n",
              "      <th>20th Century Studios</th>\n",
              "      <td>1</td>\n",
              "    </tr>\n",
              "    <tr>\n",
              "      <th>Sony Pictures Classics</th>\n",
              "      <td>1</td>\n",
              "    </tr>\n",
              "    <tr>\n",
              "      <th>Roadside Attractions</th>\n",
              "      <td>1</td>\n",
              "    </tr>\n",
              "    <tr>\n",
              "      <th>Artisan Entertainment</th>\n",
              "      <td>1</td>\n",
              "    </tr>\n",
              "    <tr>\n",
              "      <th>Newmarket Films</th>\n",
              "      <td>1</td>\n",
              "    </tr>\n",
              "    <tr>\n",
              "      <th>IFC Films</th>\n",
              "      <td>1</td>\n",
              "    </tr>\n",
              "    <tr>\n",
              "      <th>Relativity Media</th>\n",
              "      <td>1</td>\n",
              "    </tr>\n",
              "  </tbody>\n",
              "</table>\n",
              "</div>\n",
              "      <button class=\"colab-df-convert\" onclick=\"convertToInteractive('df-e7d54ffc-249e-4cd2-b4c2-8c5eee1fdf69')\"\n",
              "              title=\"Convert this dataframe to an interactive table.\"\n",
              "              style=\"display:none;\">\n",
              "        \n",
              "  <svg xmlns=\"http://www.w3.org/2000/svg\" height=\"24px\"viewBox=\"0 0 24 24\"\n",
              "       width=\"24px\">\n",
              "    <path d=\"M0 0h24v24H0V0z\" fill=\"none\"/>\n",
              "    <path d=\"M18.56 5.44l.94 2.06.94-2.06 2.06-.94-2.06-.94-.94-2.06-.94 2.06-2.06.94zm-11 1L8.5 8.5l.94-2.06 2.06-.94-2.06-.94L8.5 2.5l-.94 2.06-2.06.94zm10 10l.94 2.06.94-2.06 2.06-.94-2.06-.94-.94-2.06-.94 2.06-2.06.94z\"/><path d=\"M17.41 7.96l-1.37-1.37c-.4-.4-.92-.59-1.43-.59-.52 0-1.04.2-1.43.59L10.3 9.45l-7.72 7.72c-.78.78-.78 2.05 0 2.83L4 21.41c.39.39.9.59 1.41.59.51 0 1.02-.2 1.41-.59l7.78-7.78 2.81-2.81c.8-.78.8-2.07 0-2.86zM5.41 20L4 18.59l7.72-7.72 1.47 1.35L5.41 20z\"/>\n",
              "  </svg>\n",
              "      </button>\n",
              "      \n",
              "  <style>\n",
              "    .colab-df-container {\n",
              "      display:flex;\n",
              "      flex-wrap:wrap;\n",
              "      gap: 12px;\n",
              "    }\n",
              "\n",
              "    .colab-df-convert {\n",
              "      background-color: #E8F0FE;\n",
              "      border: none;\n",
              "      border-radius: 50%;\n",
              "      cursor: pointer;\n",
              "      display: none;\n",
              "      fill: #1967D2;\n",
              "      height: 32px;\n",
              "      padding: 0 0 0 0;\n",
              "      width: 32px;\n",
              "    }\n",
              "\n",
              "    .colab-df-convert:hover {\n",
              "      background-color: #E2EBFA;\n",
              "      box-shadow: 0px 1px 2px rgba(60, 64, 67, 0.3), 0px 1px 3px 1px rgba(60, 64, 67, 0.15);\n",
              "      fill: #174EA6;\n",
              "    }\n",
              "\n",
              "    [theme=dark] .colab-df-convert {\n",
              "      background-color: #3B4455;\n",
              "      fill: #D2E3FC;\n",
              "    }\n",
              "\n",
              "    [theme=dark] .colab-df-convert:hover {\n",
              "      background-color: #434B5C;\n",
              "      box-shadow: 0px 1px 3px 1px rgba(0, 0, 0, 0.15);\n",
              "      filter: drop-shadow(0px 1px 2px rgba(0, 0, 0, 0.3));\n",
              "      fill: #FFFFFF;\n",
              "    }\n",
              "  </style>\n",
              "\n",
              "      <script>\n",
              "        const buttonEl =\n",
              "          document.querySelector('#df-e7d54ffc-249e-4cd2-b4c2-8c5eee1fdf69 button.colab-df-convert');\n",
              "        buttonEl.style.display =\n",
              "          google.colab.kernel.accessAllowed ? 'block' : 'none';\n",
              "\n",
              "        async function convertToInteractive(key) {\n",
              "          const element = document.querySelector('#df-e7d54ffc-249e-4cd2-b4c2-8c5eee1fdf69');\n",
              "          const dataTable =\n",
              "            await google.colab.kernel.invokeFunction('convertToInteractive',\n",
              "                                                     [key], {});\n",
              "          if (!dataTable) return;\n",
              "\n",
              "          const docLinkHtml = 'Like what you see? Visit the ' +\n",
              "            '<a target=\"_blank\" href=https://colab.research.google.com/notebooks/data_table.ipynb>data table notebook</a>'\n",
              "            + ' to learn more about interactive tables.';\n",
              "          element.innerHTML = '';\n",
              "          dataTable['output_type'] = 'display_data';\n",
              "          await google.colab.output.renderOutput(dataTable, element);\n",
              "          const docLink = document.createElement('div');\n",
              "          docLink.innerHTML = docLinkHtml;\n",
              "          element.appendChild(docLink);\n",
              "        }\n",
              "      </script>\n",
              "    </div>\n",
              "  </div>\n",
              "  "
            ]
          },
          "metadata": {},
          "execution_count": 82
        }
      ]
    },
    {
      "cell_type": "code",
      "source": [
        "distribuidor.shape"
      ],
      "metadata": {
        "colab": {
          "base_uri": "https://localhost:8080/"
        },
        "id": "KovwJjVo0yrA",
        "outputId": "c28f4922-06c1-4e37-c647-1c8c0871786b"
      },
      "execution_count": 78,
      "outputs": [
        {
          "output_type": "execute_result",
          "data": {
            "text/plain": [
              "(34, 1)"
            ]
          },
          "metadata": {},
          "execution_count": 78
        }
      ]
    },
    {
      "cell_type": "code",
      "source": [
        "qtd_filmes=distribuidor['Qtd_filmes'].sum()\n",
        "qtd_filmes"
      ],
      "metadata": {
        "colab": {
          "base_uri": "https://localhost:8080/"
        },
        "id": "Fhf0LGgo2da0",
        "outputId": "ade35457-200c-4149-a5f5-78cedb42e9e1"
      },
      "execution_count": 84,
      "outputs": [
        {
          "output_type": "execute_result",
          "data": {
            "text/plain": [
              "918"
            ]
          },
          "metadata": {},
          "execution_count": 84
        }
      ]
    },
    {
      "cell_type": "code",
      "source": [
        "# vamos fazer um gráfico de barras\n",
        "fig,ax=plt.subplots(figsize=(20,7))\n",
        "sns.barplot(x='Distributor', y='Title', color = \"steelblue\", edgecolor='black',\n",
        "            data= data.groupby('Distributor', as_index=False)['Title'].count().sort_values('Title',ascending=False))\n",
        "ax.tick_params(axis='x', labelrotation=90)\n",
        "ax.set_title('Filmes por Distribuidora', fontsize=14)\n",
        "plt.show()"
      ],
      "metadata": {
        "colab": {
          "base_uri": "https://localhost:8080/",
          "height": 629
        },
        "id": "kFn_FUBLZ2m2",
        "outputId": "faf4a20f-8a75-4356-e2d0-d91f418c2d10"
      },
      "execution_count": 17,
      "outputs": [
        {
          "output_type": "display_data",
          "data": {
            "text/plain": [
              "<Figure size 1440x504 with 1 Axes>"
            ],
            "image/png": "[encoded data removed]"
          },
          "metadata": {
            "needs_background": "light"
          }
        }
      ]
    },
    {
      "cell_type": "markdown",
      "source": [
        "### **Variáveis Quantitativas**"
      ],
      "metadata": {
        "id": "YqMDabYQi5cO"
      }
    },
    {
      "cell_type": "markdown",
      "source": [
        "Verificando a distribuição de tempo do filme."
      ],
      "metadata": {
        "id": "JkaCgSBxkGgK"
      }
    },
    {
      "cell_type": "code",
      "source": [
        "# com a quantidade de bins default\n",
        "sns.histplot(data = data, x = \"Movie Runtime\")\n",
        "plt.show()"
      ],
      "metadata": {
        "colab": {
          "base_uri": "https://localhost:8080/",
          "height": 279
        },
        "id": "jdHQwLSQkVfZ",
        "outputId": "97ec3e5f-b77e-416d-9e8a-58a2afb6fe21"
      },
      "execution_count": 18,
      "outputs": [
        {
          "output_type": "display_data",
          "data": {
            "text/plain": [
              "<Figure size 432x288 with 1 Axes>"
            ],
            "image/png": "[encoded data removed]"
          },
          "metadata": {
            "needs_background": "light"
          }
        }
      ]
    },
    {
      "cell_type": "code",
      "source": [
        "# com a quantidade de bins escolhida\n",
        "sns.histplot(data = data, x = \"Movie Runtime\", bins = 10)\n",
        "plt.show()"
      ],
      "metadata": {
        "colab": {
          "base_uri": "https://localhost:8080/",
          "height": 279
        },
        "id": "nMKWedR9ki3-",
        "outputId": "9f37b9fb-2111-4360-8894-de14e4175140"
      },
      "execution_count": 19,
      "outputs": [
        {
          "output_type": "display_data",
          "data": {
            "text/plain": [
              "<Figure size 432x288 with 1 Axes>"
            ],
            "image/png": "[encoded data removed]"
          },
          "metadata": {
            "needs_background": "light"
          }
        }
      ]
    },
    {
      "cell_type": "markdown",
      "source": [
        "## **Medidas de tendência central e Medidas separatrizes**"
      ],
      "metadata": {
        "id": "N7YHVQwwVC-3"
      }
    },
    {
      "cell_type": "markdown",
      "source": [
        "### **Variáveis Quantitativas**"
      ],
      "metadata": {
        "id": "OJSd6Gbfutlt"
      }
    },
    {
      "cell_type": "code",
      "source": [
        "# Verificando a \"distribuição\" de todas as variáveis numéricas da base de dados ao mesmo tempo\n",
        "data.describe()"
      ],
      "metadata": {
        "colab": {
          "base_uri": "https://localhost:8080/",
          "height": 300
        },
        "id": "t7ZTf91-lF2C",
        "outputId": "624f56f3-ad39-47b3-baa0-b8b782d22960"
      },
      "execution_count": 20,
      "outputs": [
        {
          "output_type": "execute_result",
          "data": {
            "text/plain": [
              "       Unnamed: 0  Domestic Sales (in $)  International Sales (in $)  \\\n",
              "count  918.000000             918.000000                  918.000000   \n",
              "mean   458.500000             167.746918                  230.143436   \n",
              "std    265.148072             104.036045                  217.601104   \n",
              "min      0.000000              80.360843                    0.000260   \n",
              "25%    229.250000             101.607072                   88.456200   \n",
              "50%    458.500000             132.135096                  163.881928   \n",
              "75%    687.750000             191.390486                  288.557651   \n",
              "max    917.000000             936.662225                 2086.738578   \n",
              "\n",
              "       World Sales (in $)  Movie Runtime  \n",
              "count          918.000000     918.000000  \n",
              "mean           396.866826       1.942847  \n",
              "std            308.262916       0.347929  \n",
              "min             81.600000       1.266667  \n",
              "25%            200.556355       1.666667  \n",
              "50%            301.941607       1.916667  \n",
              "75%            475.071823       2.166667  \n",
              "max           2847.246203       3.350000  "
            ],
            "text/html": [
              "\n",
              "  <div id=\"df-c683f72e-0b42-4efb-b25d-34fd4da37224\">\n",
              "    <div class=\"colab-df-container\">\n",
              "      <div>\n",
              "<style scoped>\n",
              "    .dataframe tbody tr th:only-of-type {\n",
              "        vertical-align: middle;\n",
              "    }\n",
              "\n",
              "    .dataframe tbody tr th {\n",
              "        vertical-align: top;\n",
              "    }\n",
              "\n",
              "    .dataframe thead th {\n",
              "        text-align: right;\n",
              "    }\n",
              "</style>\n",
              "<table border=\"1\" class=\"dataframe\">\n",
              "  <thead>\n",
              "    <tr style=\"text-align: right;\">\n",
              "      <th></th>\n",
              "      <th>Unnamed: 0</th>\n",
              "      <th>Domestic Sales (in $)</th>\n",
              "      <th>International Sales (in $)</th>\n",
              "      <th>World Sales (in $)</th>\n",
              "      <th>Movie Runtime</th>\n",
              "    </tr>\n",
              "  </thead>\n",
              "  <tbody>\n",
              "    <tr>\n",
              "      <th>count</th>\n",
              "      <td>918.000000</td>\n",
              "      <td>918.000000</td>\n",
              "      <td>918.000000</td>\n",
              "      <td>918.000000</td>\n",
              "      <td>918.000000</td>\n",
              "    </tr>\n",
              "    <tr>\n",
              "      <th>mean</th>\n",
              "      <td>458.500000</td>\n",
              "      <td>167.746918</td>\n",
              "      <td>230.143436</td>\n",
              "      <td>396.866826</td>\n",
              "      <td>1.942847</td>\n",
              "    </tr>\n",
              "    <tr>\n",
              "      <th>std</th>\n",
              "      <td>265.148072</td>\n",
              "      <td>104.036045</td>\n",
              "      <td>217.601104</td>\n",
              "      <td>308.262916</td>\n",
              "      <td>0.347929</td>\n",
              "    </tr>\n",
              "    <tr>\n",
              "      <th>min</th>\n",
              "      <td>0.000000</td>\n",
              "      <td>80.360843</td>\n",
              "      <td>0.000260</td>\n",
              "      <td>81.600000</td>\n",
              "      <td>1.266667</td>\n",
              "    </tr>\n",
              "    <tr>\n",
              "      <th>25%</th>\n",
              "      <td>229.250000</td>\n",
              "      <td>101.607072</td>\n",
              "      <td>88.456200</td>\n",
              "      <td>200.556355</td>\n",
              "      <td>1.666667</td>\n",
              "    </tr>\n",
              "    <tr>\n",
              "      <th>50%</th>\n",
              "      <td>458.500000</td>\n",
              "      <td>132.135096</td>\n",
              "      <td>163.881928</td>\n",
              "      <td>301.941607</td>\n",
              "      <td>1.916667</td>\n",
              "    </tr>\n",
              "    <tr>\n",
              "      <th>75%</th>\n",
              "      <td>687.750000</td>\n",
              "      <td>191.390486</td>\n",
              "      <td>288.557651</td>\n",
              "      <td>475.071823</td>\n",
              "      <td>2.166667</td>\n",
              "    </tr>\n",
              "    <tr>\n",
              "      <th>max</th>\n",
              "      <td>917.000000</td>\n",
              "      <td>936.662225</td>\n",
              "      <td>2086.738578</td>\n",
              "      <td>2847.246203</td>\n",
              "      <td>3.350000</td>\n",
              "    </tr>\n",
              "  </tbody>\n",
              "</table>\n",
              "</div>\n",
              "      <button class=\"colab-df-convert\" onclick=\"convertToInteractive('df-c683f72e-0b42-4efb-b25d-34fd4da37224')\"\n",
              "              title=\"Convert this dataframe to an interactive table.\"\n",
              "              style=\"display:none;\">\n",
              "        \n",
              "  <svg xmlns=\"http://www.w3.org/2000/svg\" height=\"24px\"viewBox=\"0 0 24 24\"\n",
              "       width=\"24px\">\n",
              "    <path d=\"M0 0h24v24H0V0z\" fill=\"none\"/>\n",
              "    <path d=\"M18.56 5.44l.94 2.06.94-2.06 2.06-.94-2.06-.94-.94-2.06-.94 2.06-2.06.94zm-11 1L8.5 8.5l.94-2.06 2.06-.94-2.06-.94L8.5 2.5l-.94 2.06-2.06.94zm10 10l.94 2.06.94-2.06 2.06-.94-2.06-.94-.94-2.06-.94 2.06-2.06.94z\"/><path d=\"M17.41 7.96l-1.37-1.37c-.4-.4-.92-.59-1.43-.59-.52 0-1.04.2-1.43.59L10.3 9.45l-7.72 7.72c-.78.78-.78 2.05 0 2.83L4 21.41c.39.39.9.59 1.41.59.51 0 1.02-.2 1.41-.59l7.78-7.78 2.81-2.81c.8-.78.8-2.07 0-2.86zM5.41 20L4 18.59l7.72-7.72 1.47 1.35L5.41 20z\"/>\n",
              "  </svg>\n",
              "      </button>\n",
              "      \n",
              "  <style>\n",
              "    .colab-df-container {\n",
              "      display:flex;\n",
              "      flex-wrap:wrap;\n",
              "      gap: 12px;\n",
              "    }\n",
              "\n",
              "    .colab-df-convert {\n",
              "      background-color: #E8F0FE;\n",
              "      border: none;\n",
              "      border-radius: 50%;\n",
              "      cursor: pointer;\n",
              "      display: none;\n",
              "      fill: #1967D2;\n",
              "      height: 32px;\n",
              "      padding: 0 0 0 0;\n",
              "      width: 32px;\n",
              "    }\n",
              "\n",
              "    .colab-df-convert:hover {\n",
              "      background-color: #E2EBFA;\n",
              "      box-shadow: 0px 1px 2px rgba(60, 64, 67, 0.3), 0px 1px 3px 1px rgba(60, 64, 67, 0.15);\n",
              "      fill: #174EA6;\n",
              "    }\n",
              "\n",
              "    [theme=dark] .colab-df-convert {\n",
              "      background-color: #3B4455;\n",
              "      fill: #D2E3FC;\n",
              "    }\n",
              "\n",
              "    [theme=dark] .colab-df-convert:hover {\n",
              "      background-color: #434B5C;\n",
              "      box-shadow: 0px 1px 3px 1px rgba(0, 0, 0, 0.15);\n",
              "      filter: drop-shadow(0px 1px 2px rgba(0, 0, 0, 0.3));\n",
              "      fill: #FFFFFF;\n",
              "    }\n",
              "  </style>\n",
              "\n",
              "      <script>\n",
              "        const buttonEl =\n",
              "          document.querySelector('#df-c683f72e-0b42-4efb-b25d-34fd4da37224 button.colab-df-convert');\n",
              "        buttonEl.style.display =\n",
              "          google.colab.kernel.accessAllowed ? 'block' : 'none';\n",
              "\n",
              "        async function convertToInteractive(key) {\n",
              "          const element = document.querySelector('#df-c683f72e-0b42-4efb-b25d-34fd4da37224');\n",
              "          const dataTable =\n",
              "            await google.colab.kernel.invokeFunction('convertToInteractive',\n",
              "                                                     [key], {});\n",
              "          if (!dataTable) return;\n",
              "\n",
              "          const docLinkHtml = 'Like what you see? Visit the ' +\n",
              "            '<a target=\"_blank\" href=https://colab.research.google.com/notebooks/data_table.ipynb>data table notebook</a>'\n",
              "            + ' to learn more about interactive tables.';\n",
              "          element.innerHTML = '';\n",
              "          dataTable['output_type'] = 'display_data';\n",
              "          await google.colab.output.renderOutput(dataTable, element);\n",
              "          const docLink = document.createElement('div');\n",
              "          docLink.innerHTML = docLinkHtml;\n",
              "          element.appendChild(docLink);\n",
              "        }\n",
              "      </script>\n",
              "    </div>\n",
              "  </div>\n",
              "  "
            ]
          },
          "metadata": {},
          "execution_count": 20
        }
      ]
    },
    {
      "cell_type": "markdown",
      "source": [
        "Agora iremos focar as análises nos dados de tempo de duração do filme."
      ],
      "metadata": {
        "id": "bnIViK27wF5R"
      }
    },
    {
      "cell_type": "code",
      "source": [
        "# calculando a moda de variável quantitativa\n",
        "\n",
        "# criando um histograma\n",
        "n, bins, patches = plt.hist(data['Movie Runtime'], bins=10, color = \"steelblue\")  \n",
        "plt.show()\n",
        "\n",
        "mode_index = n.argmax()\n",
        "print('O que mais aparece:(' + str(bins[mode_index]) + ',' + str(bins[mode_index+1]) + ')')         \n",
        "print('A moda:'+ str((bins[mode_index] + bins[mode_index+1])/2))"
      ],
      "metadata": {
        "colab": {
          "base_uri": "https://localhost:8080/",
          "height": 300
        },
        "id": "JikUs2MxpYdd",
        "outputId": "652b10b0-e2ec-4e00-ae26-2a3b9891fc77"
      },
      "execution_count": 22,
      "outputs": [
        {
          "output_type": "display_data",
          "data": {
            "text/plain": [
              "<Figure size 432x288 with 1 Axes>"
            ],
            "image/png": "[encoded data removed]"
          },
          "metadata": {
            "needs_background": "light"
          }
        },
        {
          "output_type": "stream",
          "name": "stdout",
          "text": [
            "O que mais aparece:(1.6833333333333333,1.8916666666666666)\n",
            "A moda:1.7875\n"
          ]
        }
      ]
    },
    {
      "cell_type": "code",
      "source": [
        "# calculando os quantis\n",
        "data[\"Movie Runtime\"].quantile([0.05, 0.95])"
      ],
      "metadata": {
        "colab": {
          "base_uri": "https://localhost:8080/"
        },
        "id": "19dwoSdmrkRR",
        "outputId": "b6e0060f-93ff-47bd-fe76-4df2b3d099ed"
      },
      "execution_count": null,
      "outputs": [
        {
          "output_type": "execute_result",
          "data": {
            "text/plain": [
              "0.05    1.466667\n",
              "0.95    2.566667\n",
              "Name: Movie Runtime, dtype: float64"
            ]
          },
          "metadata": {},
          "execution_count": 24
        }
      ]
    },
    {
      "cell_type": "markdown",
      "source": [
        "Verificando graficamente o tempo de duração dos filmes."
      ],
      "metadata": {
        "id": "gUp26Vvft8Hl"
      }
    },
    {
      "cell_type": "code",
      "source": [
        "# creando uma figura de dois axes \n",
        "f, (ax_box, ax_hist) = plt.subplots(2, sharex=True, gridspec_kw={\"height_ratios\": (.15, .85)})\n",
        " \n",
        "# adicionando um gráfico em cada ax \n",
        "sns.boxplot(data[\"Movie Runtime\"], ax=ax_box)\n",
        "sns.histplot(data=data, x=\"Movie Runtime\", ax=ax_hist)\n",
        " \n",
        "# removendo o nome do eixo x do boxplot\n",
        "ax_box.set(xlabel='')\n",
        "plt.show()"
      ],
      "metadata": {
        "colab": {
          "base_uri": "https://localhost:8080/",
          "height": 279
        },
        "id": "TK55gS2XZ2u-",
        "outputId": "07b0c764-a7a5-4233-db91-bb2a8ab52ca1"
      },
      "execution_count": 23,
      "outputs": [
        {
          "output_type": "display_data",
          "data": {
            "text/plain": [
              "<Figure size 432x288 with 2 Axes>"
            ],
            "image/png": "[encoded data removed]"
          },
          "metadata": {
            "needs_background": "light"
          }
        }
      ]
    },
    {
      "cell_type": "markdown",
      "source": [
        "### **Variáveis Qualitativas**"
      ],
      "metadata": {
        "id": "3x7TeW4tuNJy"
      }
    },
    {
      "cell_type": "code",
      "source": [
        "# calculando a moda de variável qualitativa\n",
        "statistics.mode(data['Distributor'])"
      ],
      "metadata": {
        "colab": {
          "base_uri": "https://localhost:8080/",
          "height": 35
        },
        "id": "58hr79uAmf89",
        "outputId": "ec7d4003-8b19-489d-cdbc-55c53bcda96b"
      },
      "execution_count": 24,
      "outputs": [
        {
          "output_type": "execute_result",
          "data": {
            "text/plain": [
              "'Warner Bros.'"
            ],
            "application/vnd.google.colaboratory.intrinsic+json": {
              "type": "string"
            }
          },
          "metadata": {},
          "execution_count": 24
        }
      ]
    },
    {
      "cell_type": "markdown",
      "source": [
        "### **Variáveis Quantitativas VS Variáveis Qualitativas**\n",
        "\n",
        "Vamos verificar quanto cada distribuidora arrecadou."
      ],
      "metadata": {
        "id": "9RyrMs9Vqezc"
      }
    },
    {
      "cell_type": "code",
      "source": [
        "# quanto cada distribuidora arrecadou em média\n",
        "mean_arrecadation_distributor=data.groupby(['Distributor'])['World Sales (in $)'].mean().reset_index(name=\"Média Arrecadação\")\n",
        "mean_arrecadation_distributor_=mean_arrecadation_distributor.sort_values(by='Média Arrecadação',ascending=False)\n",
        "mean_arrecadation_distributor_"
      ],
      "metadata": {
        "colab": {
          "base_uri": "https://localhost:8080/",
          "height": 1000
        },
        "id": "gZsR1SIcqoPj",
        "outputId": "cdc34c9e-9380-47cb-ebfd-48d5a33b1022"
      },
      "execution_count": 85,
      "outputs": [
        {
          "output_type": "execute_result",
          "data": {
            "text/plain": [
              "                            Distributor  Média Arrecadação\n",
              "14                      Newmarket Films         612.054506\n",
              "24                 Summit Entertainment         545.831897\n",
              "32  Walt Disney Studios Motion Pictures         531.432894\n",
              "4                            DreamWorks         495.855995\n",
              "27                Twentieth Century Fox         415.289694\n",
              "33                         Warner Bros.         402.515784\n",
              "10                            Lionsgate         394.658207\n",
              "31                   Universal Pictures         383.215503\n",
              "23    Sony Pictures Entertainment (SPE)         370.856318\n",
              "9                             IFC Films         368.744044\n",
              "5               DreamWorks Distribution         342.037644\n",
              "13                      New Line Cinema         336.492666\n",
              "0                  20th Century Studios         331.503757\n",
              "16                   Paramount Pictures         327.712358\n",
              "11            Metro-Goldwyn-Mayer (MGM)         309.823696\n",
              "25                The Weinstein Company         303.698065\n",
              "8              Fox Searchlight Pictures         279.356113\n",
              "15                       Orion Pictures         278.499134\n",
              "26                     TriStar Pictures         275.949781\n",
              "29                       United Artists         251.009616\n",
              "1                 Artisan Entertainment         248.639099\n",
              "12                              Miramax         228.732351\n",
              "17                     Relativity Media         226.904017\n",
              "22               Sony Pictures Classics         213.525736\n",
              "7                        Focus Features         207.961405\n",
              "28                            USA Films         207.515725\n",
              "30             United Artists Releasing         203.783845\n",
              "2                     Columbia Pictures         196.315661\n",
              "18                   Revolution Studios         180.304510\n",
              "3                       Dimension Films         174.715016\n",
              "6                          FilmDistrict         166.094760\n",
              "20                    STX Entertainment         155.785284\n",
              "21                          Screen Gems         149.982026\n",
              "19                 Roadside Attractions          86.086881"
            ],
            "text/html": [
              "\n",
              "  <div id=\"df-a853bbb5-f4e3-4fff-ae8b-bb211b1e0fd0\">\n",
              "    <div class=\"colab-df-container\">\n",
              "      <div>\n",
              "<style scoped>\n",
              "    .dataframe tbody tr th:only-of-type {\n",
              "        vertical-align: middle;\n",
              "    }\n",
              "\n",
              "    .dataframe tbody tr th {\n",
              "        vertical-align: top;\n",
              "    }\n",
              "\n",
              "    .dataframe thead th {\n",
              "        text-align: right;\n",
              "    }\n",
              "</style>\n",
              "<table border=\"1\" class=\"dataframe\">\n",
              "  <thead>\n",
              "    <tr style=\"text-align: right;\">\n",
              "      <th></th>\n",
              "      <th>Distributor</th>\n",
              "      <th>Média Arrecadação</th>\n",
              "    </tr>\n",
              "  </thead>\n",
              "  <tbody>\n",
              "    <tr>\n",
              "      <th>14</th>\n",
              "      <td>Newmarket Films</td>\n",
              "      <td>612.054506</td>\n",
              "    </tr>\n",
              "    <tr>\n",
              "      <th>24</th>\n",
              "      <td>Summit Entertainment</td>\n",
              "      <td>545.831897</td>\n",
              "    </tr>\n",
              "    <tr>\n",
              "      <th>32</th>\n",
              "      <td>Walt Disney Studios Motion Pictures</td>\n",
              "      <td>531.432894</td>\n",
              "    </tr>\n",
              "    <tr>\n",
              "      <th>4</th>\n",
              "      <td>DreamWorks</td>\n",
              "      <td>495.855995</td>\n",
              "    </tr>\n",
              "    <tr>\n",
              "      <th>27</th>\n",
              "      <td>Twentieth Century Fox</td>\n",
              "      <td>415.289694</td>\n",
              "    </tr>\n",
              "    <tr>\n",
              "      <th>33</th>\n",
              "      <td>Warner Bros.</td>\n",
              "      <td>402.515784</td>\n",
              "    </tr>\n",
              "    <tr>\n",
              "      <th>10</th>\n",
              "      <td>Lionsgate</td>\n",
              "      <td>394.658207</td>\n",
              "    </tr>\n",
              "    <tr>\n",
              "      <th>31</th>\n",
              "      <td>Universal Pictures</td>\n",
              "      <td>383.215503</td>\n",
              "    </tr>\n",
              "    <tr>\n",
              "      <th>23</th>\n",
              "      <td>Sony Pictures Entertainment (SPE)</td>\n",
              "      <td>370.856318</td>\n",
              "    </tr>\n",
              "    <tr>\n",
              "      <th>9</th>\n",
              "      <td>IFC Films</td>\n",
              "      <td>368.744044</td>\n",
              "    </tr>\n",
              "    <tr>\n",
              "      <th>5</th>\n",
              "      <td>DreamWorks Distribution</td>\n",
              "      <td>342.037644</td>\n",
              "    </tr>\n",
              "    <tr>\n",
              "      <th>13</th>\n",
              "      <td>New Line Cinema</td>\n",
              "      <td>336.492666</td>\n",
              "    </tr>\n",
              "    <tr>\n",
              "      <th>0</th>\n",
              "      <td>20th Century Studios</td>\n",
              "      <td>331.503757</td>\n",
              "    </tr>\n",
              "    <tr>\n",
              "      <th>16</th>\n",
              "      <td>Paramount Pictures</td>\n",
              "      <td>327.712358</td>\n",
              "    </tr>\n",
              "    <tr>\n",
              "      <th>11</th>\n",
              "      <td>Metro-Goldwyn-Mayer (MGM)</td>\n",
              "      <td>309.823696</td>\n",
              "    </tr>\n",
              "    <tr>\n",
              "      <th>25</th>\n",
              "      <td>The Weinstein Company</td>\n",
              "      <td>303.698065</td>\n",
              "    </tr>\n",
              "    <tr>\n",
              "      <th>8</th>\n",
              "      <td>Fox Searchlight Pictures</td>\n",
              "      <td>279.356113</td>\n",
              "    </tr>\n",
              "    <tr>\n",
              "      <th>15</th>\n",
              "      <td>Orion Pictures</td>\n",
              "      <td>278.499134</td>\n",
              "    </tr>\n",
              "    <tr>\n",
              "      <th>26</th>\n",
              "      <td>TriStar Pictures</td>\n",
              "      <td>275.949781</td>\n",
              "    </tr>\n",
              "    <tr>\n",
              "      <th>29</th>\n",
              "      <td>United Artists</td>\n",
              "      <td>251.009616</td>\n",
              "    </tr>\n",
              "    <tr>\n",
              "      <th>1</th>\n",
              "      <td>Artisan Entertainment</td>\n",
              "      <td>248.639099</td>\n",
              "    </tr>\n",
              "    <tr>\n",
              "      <th>12</th>\n",
              "      <td>Miramax</td>\n",
              "      <td>228.732351</td>\n",
              "    </tr>\n",
              "    <tr>\n",
              "      <th>17</th>\n",
              "      <td>Relativity Media</td>\n",
              "      <td>226.904017</td>\n",
              "    </tr>\n",
              "    <tr>\n",
              "      <th>22</th>\n",
              "      <td>Sony Pictures Classics</td>\n",
              "      <td>213.525736</td>\n",
              "    </tr>\n",
              "    <tr>\n",
              "      <th>7</th>\n",
              "      <td>Focus Features</td>\n",
              "      <td>207.961405</td>\n",
              "    </tr>\n",
              "    <tr>\n",
              "      <th>28</th>\n",
              "      <td>USA Films</td>\n",
              "      <td>207.515725</td>\n",
              "    </tr>\n",
              "    <tr>\n",
              "      <th>30</th>\n",
              "      <td>United Artists Releasing</td>\n",
              "      <td>203.783845</td>\n",
              "    </tr>\n",
              "    <tr>\n",
              "      <th>2</th>\n",
              "      <td>Columbia Pictures</td>\n",
              "      <td>196.315661</td>\n",
              "    </tr>\n",
              "    <tr>\n",
              "      <th>18</th>\n",
              "      <td>Revolution Studios</td>\n",
              "      <td>180.304510</td>\n",
              "    </tr>\n",
              "    <tr>\n",
              "      <th>3</th>\n",
              "      <td>Dimension Films</td>\n",
              "      <td>174.715016</td>\n",
              "    </tr>\n",
              "    <tr>\n",
              "      <th>6</th>\n",
              "      <td>FilmDistrict</td>\n",
              "      <td>166.094760</td>\n",
              "    </tr>\n",
              "    <tr>\n",
              "      <th>20</th>\n",
              "      <td>STX Entertainment</td>\n",
              "      <td>155.785284</td>\n",
              "    </tr>\n",
              "    <tr>\n",
              "      <th>21</th>\n",
              "      <td>Screen Gems</td>\n",
              "      <td>149.982026</td>\n",
              "    </tr>\n",
              "    <tr>\n",
              "      <th>19</th>\n",
              "      <td>Roadside Attractions</td>\n",
              "      <td>86.086881</td>\n",
              "    </tr>\n",
              "  </tbody>\n",
              "</table>\n",
              "</div>\n",
              "      <button class=\"colab-df-convert\" onclick=\"convertToInteractive('df-a853bbb5-f4e3-4fff-ae8b-bb211b1e0fd0')\"\n",
              "              title=\"Convert this dataframe to an interactive table.\"\n",
              "              style=\"display:none;\">\n",
              "        \n",
              "  <svg xmlns=\"http://www.w3.org/2000/svg\" height=\"24px\"viewBox=\"0 0 24 24\"\n",
              "       width=\"24px\">\n",
              "    <path d=\"M0 0h24v24H0V0z\" fill=\"none\"/>\n",
              "    <path d=\"M18.56 5.44l.94 2.06.94-2.06 2.06-.94-2.06-.94-.94-2.06-.94 2.06-2.06.94zm-11 1L8.5 8.5l.94-2.06 2.06-.94-2.06-.94L8.5 2.5l-.94 2.06-2.06.94zm10 10l.94 2.06.94-2.06 2.06-.94-2.06-.94-.94-2.06-.94 2.06-2.06.94z\"/><path d=\"M17.41 7.96l-1.37-1.37c-.4-.4-.92-.59-1.43-.59-.52 0-1.04.2-1.43.59L10.3 9.45l-7.72 7.72c-.78.78-.78 2.05 0 2.83L4 21.41c.39.39.9.59 1.41.59.51 0 1.02-.2 1.41-.59l7.78-7.78 2.81-2.81c.8-.78.8-2.07 0-2.86zM5.41 20L4 18.59l7.72-7.72 1.47 1.35L5.41 20z\"/>\n",
              "  </svg>\n",
              "      </button>\n",
              "      \n",
              "  <style>\n",
              "    .colab-df-container {\n",
              "      display:flex;\n",
              "      flex-wrap:wrap;\n",
              "      gap: 12px;\n",
              "    }\n",
              "\n",
              "    .colab-df-convert {\n",
              "      background-color: #E8F0FE;\n",
              "      border: none;\n",
              "      border-radius: 50%;\n",
              "      cursor: pointer;\n",
              "      display: none;\n",
              "      fill: #1967D2;\n",
              "      height: 32px;\n",
              "      padding: 0 0 0 0;\n",
              "      width: 32px;\n",
              "    }\n",
              "\n",
              "    .colab-df-convert:hover {\n",
              "      background-color: #E2EBFA;\n",
              "      box-shadow: 0px 1px 2px rgba(60, 64, 67, 0.3), 0px 1px 3px 1px rgba(60, 64, 67, 0.15);\n",
              "      fill: #174EA6;\n",
              "    }\n",
              "\n",
              "    [theme=dark] .colab-df-convert {\n",
              "      background-color: #3B4455;\n",
              "      fill: #D2E3FC;\n",
              "    }\n",
              "\n",
              "    [theme=dark] .colab-df-convert:hover {\n",
              "      background-color: #434B5C;\n",
              "      box-shadow: 0px 1px 3px 1px rgba(0, 0, 0, 0.15);\n",
              "      filter: drop-shadow(0px 1px 2px rgba(0, 0, 0, 0.3));\n",
              "      fill: #FFFFFF;\n",
              "    }\n",
              "  </style>\n",
              "\n",
              "      <script>\n",
              "        const buttonEl =\n",
              "          document.querySelector('#df-a853bbb5-f4e3-4fff-ae8b-bb211b1e0fd0 button.colab-df-convert');\n",
              "        buttonEl.style.display =\n",
              "          google.colab.kernel.accessAllowed ? 'block' : 'none';\n",
              "\n",
              "        async function convertToInteractive(key) {\n",
              "          const element = document.querySelector('#df-a853bbb5-f4e3-4fff-ae8b-bb211b1e0fd0');\n",
              "          const dataTable =\n",
              "            await google.colab.kernel.invokeFunction('convertToInteractive',\n",
              "                                                     [key], {});\n",
              "          if (!dataTable) return;\n",
              "\n",
              "          const docLinkHtml = 'Like what you see? Visit the ' +\n",
              "            '<a target=\"_blank\" href=https://colab.research.google.com/notebooks/data_table.ipynb>data table notebook</a>'\n",
              "            + ' to learn more about interactive tables.';\n",
              "          element.innerHTML = '';\n",
              "          dataTable['output_type'] = 'display_data';\n",
              "          await google.colab.output.renderOutput(dataTable, element);\n",
              "          const docLink = document.createElement('div');\n",
              "          docLink.innerHTML = docLinkHtml;\n",
              "          element.appendChild(docLink);\n",
              "        }\n",
              "      </script>\n",
              "    </div>\n",
              "  </div>\n",
              "  "
            ]
          },
          "metadata": {},
          "execution_count": 85
        }
      ]
    },
    {
      "cell_type": "code",
      "source": [
        "plt.figure(figsize=(20,8))#Tamanho da figura \n",
        "plt.bar(mean_arrecadation_distributor_['Distributor'],mean_arrecadation_distributor_['Média Arrecadação'],color='black')\n",
        "plt.title('Arrecadação média por filme dos Distribuidores') # Titulo \n",
        "plt.xlabel('Distributor\t') # Eixo x \n",
        "plt.ylabel('Média Arrecadação') # Eixo y \n",
        "plt.xticks(rotation=90)# Rotação em 90 Graus \n",
        "plt.show()"
      ],
      "metadata": {
        "colab": {
          "base_uri": "https://localhost:8080/",
          "height": 682
        },
        "id": "NY9XAROYzFBc",
        "outputId": "950d8da0-a049-4ee1-b14b-73b612293a31"
      },
      "execution_count": 72,
      "outputs": [
        {
          "output_type": "display_data",
          "data": {
            "text/plain": [
              "<Figure size 1440x576 with 1 Axes>"
            ],
            "image/png": "[encoded data removed]"
          },
          "metadata": {
            "needs_background": "light"
          }
        }
      ]
    },
    {
      "cell_type": "code",
      "source": [
        "# quanto cada distribuidora arrecadou no total\n",
        "total_arrecadation=data.groupby(['Distributor'])['World Sales (in $)'].sum().reset_index(name=\"Total Arrecadação\").sort_values(by='Total Arrecadação',ascending=False)\n",
        "total_arrecadation.head()"
      ],
      "metadata": {
        "colab": {
          "base_uri": "https://localhost:8080/",
          "height": 206
        },
        "id": "heY_dTnErHAd",
        "outputId": "60d0c155-47df-4a51-dabf-2f47f208ffe0"
      },
      "execution_count": 73,
      "outputs": [
        {
          "output_type": "execute_result",
          "data": {
            "text/plain": [
              "                            Distributor  Total Arrecadação\n",
              "32  Walt Disney Studios Motion Pictures       82372.098598\n",
              "33                         Warner Bros.       63597.493931\n",
              "27                Twentieth Century Fox       48588.894179\n",
              "31                   Universal Pictures       45602.644818\n",
              "23    Sony Pictures Entertainment (SPE)       37456.488081"
            ],
            "text/html": [
              "\n",
              "  <div id=\"df-30f4d2e2-a82f-41bb-beb5-56be00c66cf0\">\n",
              "    <div class=\"colab-df-container\">\n",
              "      <div>\n",
              "<style scoped>\n",
              "    .dataframe tbody tr th:only-of-type {\n",
              "        vertical-align: middle;\n",
              "    }\n",
              "\n",
              "    .dataframe tbody tr th {\n",
              "        vertical-align: top;\n",
              "    }\n",
              "\n",
              "    .dataframe thead th {\n",
              "        text-align: right;\n",
              "    }\n",
              "</style>\n",
              "<table border=\"1\" class=\"dataframe\">\n",
              "  <thead>\n",
              "    <tr style=\"text-align: right;\">\n",
              "      <th></th>\n",
              "      <th>Distributor</th>\n",
              "      <th>Total Arrecadação</th>\n",
              "    </tr>\n",
              "  </thead>\n",
              "  <tbody>\n",
              "    <tr>\n",
              "      <th>32</th>\n",
              "      <td>Walt Disney Studios Motion Pictures</td>\n",
              "      <td>82372.098598</td>\n",
              "    </tr>\n",
              "    <tr>\n",
              "      <th>33</th>\n",
              "      <td>Warner Bros.</td>\n",
              "      <td>63597.493931</td>\n",
              "    </tr>\n",
              "    <tr>\n",
              "      <th>27</th>\n",
              "      <td>Twentieth Century Fox</td>\n",
              "      <td>48588.894179</td>\n",
              "    </tr>\n",
              "    <tr>\n",
              "      <th>31</th>\n",
              "      <td>Universal Pictures</td>\n",
              "      <td>45602.644818</td>\n",
              "    </tr>\n",
              "    <tr>\n",
              "      <th>23</th>\n",
              "      <td>Sony Pictures Entertainment (SPE)</td>\n",
              "      <td>37456.488081</td>\n",
              "    </tr>\n",
              "  </tbody>\n",
              "</table>\n",
              "</div>\n",
              "      <button class=\"colab-df-convert\" onclick=\"convertToInteractive('df-30f4d2e2-a82f-41bb-beb5-56be00c66cf0')\"\n",
              "              title=\"Convert this dataframe to an interactive table.\"\n",
              "              style=\"display:none;\">\n",
              "        \n",
              "  <svg xmlns=\"http://www.w3.org/2000/svg\" height=\"24px\"viewBox=\"0 0 24 24\"\n",
              "       width=\"24px\">\n",
              "    <path d=\"M0 0h24v24H0V0z\" fill=\"none\"/>\n",
              "    <path d=\"M18.56 5.44l.94 2.06.94-2.06 2.06-.94-2.06-.94-.94-2.06-.94 2.06-2.06.94zm-11 1L8.5 8.5l.94-2.06 2.06-.94-2.06-.94L8.5 2.5l-.94 2.06-2.06.94zm10 10l.94 2.06.94-2.06 2.06-.94-2.06-.94-.94-2.06-.94 2.06-2.06.94z\"/><path d=\"M17.41 7.96l-1.37-1.37c-.4-.4-.92-.59-1.43-.59-.52 0-1.04.2-1.43.59L10.3 9.45l-7.72 7.72c-.78.78-.78 2.05 0 2.83L4 21.41c.39.39.9.59 1.41.59.51 0 1.02-.2 1.41-.59l7.78-7.78 2.81-2.81c.8-.78.8-2.07 0-2.86zM5.41 20L4 18.59l7.72-7.72 1.47 1.35L5.41 20z\"/>\n",
              "  </svg>\n",
              "      </button>\n",
              "      \n",
              "  <style>\n",
              "    .colab-df-container {\n",
              "      display:flex;\n",
              "      flex-wrap:wrap;\n",
              "      gap: 12px;\n",
              "    }\n",
              "\n",
              "    .colab-df-convert {\n",
              "      background-color: #E8F0FE;\n",
              "      border: none;\n",
              "      border-radius: 50%;\n",
              "      cursor: pointer;\n",
              "      display: none;\n",
              "      fill: #1967D2;\n",
              "      height: 32px;\n",
              "      padding: 0 0 0 0;\n",
              "      width: 32px;\n",
              "    }\n",
              "\n",
              "    .colab-df-convert:hover {\n",
              "      background-color: #E2EBFA;\n",
              "      box-shadow: 0px 1px 2px rgba(60, 64, 67, 0.3), 0px 1px 3px 1px rgba(60, 64, 67, 0.15);\n",
              "      fill: #174EA6;\n",
              "    }\n",
              "\n",
              "    [theme=dark] .colab-df-convert {\n",
              "      background-color: #3B4455;\n",
              "      fill: #D2E3FC;\n",
              "    }\n",
              "\n",
              "    [theme=dark] .colab-df-convert:hover {\n",
              "      background-color: #434B5C;\n",
              "      box-shadow: 0px 1px 3px 1px rgba(0, 0, 0, 0.15);\n",
              "      filter: drop-shadow(0px 1px 2px rgba(0, 0, 0, 0.3));\n",
              "      fill: #FFFFFF;\n",
              "    }\n",
              "  </style>\n",
              "\n",
              "      <script>\n",
              "        const buttonEl =\n",
              "          document.querySelector('#df-30f4d2e2-a82f-41bb-beb5-56be00c66cf0 button.colab-df-convert');\n",
              "        buttonEl.style.display =\n",
              "          google.colab.kernel.accessAllowed ? 'block' : 'none';\n",
              "\n",
              "        async function convertToInteractive(key) {\n",
              "          const element = document.querySelector('#df-30f4d2e2-a82f-41bb-beb5-56be00c66cf0');\n",
              "          const dataTable =\n",
              "            await google.colab.kernel.invokeFunction('convertToInteractive',\n",
              "                                                     [key], {});\n",
              "          if (!dataTable) return;\n",
              "\n",
              "          const docLinkHtml = 'Like what you see? Visit the ' +\n",
              "            '<a target=\"_blank\" href=https://colab.research.google.com/notebooks/data_table.ipynb>data table notebook</a>'\n",
              "            + ' to learn more about interactive tables.';\n",
              "          element.innerHTML = '';\n",
              "          dataTable['output_type'] = 'display_data';\n",
              "          await google.colab.output.renderOutput(dataTable, element);\n",
              "          const docLink = document.createElement('div');\n",
              "          docLink.innerHTML = docLinkHtml;\n",
              "          element.appendChild(docLink);\n",
              "        }\n",
              "      </script>\n",
              "    </div>\n",
              "  </div>\n",
              "  "
            ]
          },
          "metadata": {},
          "execution_count": 73
        }
      ]
    },
    {
      "cell_type": "code",
      "source": [
        "total=total_arrecadation.sum()\n",
        "total"
      ],
      "metadata": {
        "colab": {
          "base_uri": "https://localhost:8080/"
        },
        "id": "kpwx_Tsa1DFA",
        "outputId": "75876bcb-524a-4f88-d70f-8f9e9e78b2d7"
      },
      "execution_count": 80,
      "outputs": [
        {
          "output_type": "execute_result",
          "data": {
            "text/plain": [
              "Distributor          Walt Disney Studios Motion PicturesWarner Bros...\n",
              "Total Arrecadação                                        364323.746068\n",
              "dtype: object"
            ]
          },
          "metadata": {},
          "execution_count": 80
        }
      ]
    },
    {
      "cell_type": "code",
      "source": [
        "plt.figure(figsize=(20,8))#Tamanho da figura \n",
        "plt.bar(total_arrecadation['Distributor'],total_arrecadation['Total Arrecadação'],color='black')\n",
        "plt.title('Arrecadação média dos Distribuidores de Filme') # Titulo \n",
        "plt.xlabel('Distributor\t') # Eixo x \n",
        "plt.ylabel('Total Arrecadação') # Eixo y \n",
        "plt.xticks(rotation=90)# Rotação em 90 Graus \n",
        "plt.show()"
      ],
      "metadata": {
        "colab": {
          "base_uri": "https://localhost:8080/",
          "height": 682
        },
        "id": "6-xZVesAz_zJ",
        "outputId": "10e1677f-7429-43b2-e023-7dfe8fe9442d"
      },
      "execution_count": 74,
      "outputs": [
        {
          "output_type": "display_data",
          "data": {
            "text/plain": [
              "<Figure size 1440x576 with 1 Axes>"
            ],
            "image/png": "[encoded data removed]"
          },
          "metadata": {
            "needs_background": "light"
          }
        }
      ]
    },
    {
      "cell_type": "markdown",
      "source": [
        "## **Medidas de dispersão**"
      ],
      "metadata": {
        "id": "LxU4ZTGXVWTC"
      }
    },
    {
      "cell_type": "markdown",
      "source": [
        "Verificando as medidas de disperção para o tempo de duração dos filmes."
      ],
      "metadata": {
        "id": "qgircEUjvt0e"
      }
    },
    {
      "cell_type": "code",
      "execution_count": 27,
      "metadata": {
        "id": "36_7C__KTRK7",
        "colab": {
          "base_uri": "https://localhost:8080/"
        },
        "outputId": "e0bf69af-526a-4746-9d1c-fca75d252189"
      },
      "outputs": [
        {
          "output_type": "execute_result",
          "data": {
            "text/plain": [
              "0.12105443402504765"
            ]
          },
          "metadata": {},
          "execution_count": 27
        }
      ],
      "source": [
        "# variância\n",
        "data[\"Movie Runtime\"].var()"
      ]
    },
    {
      "cell_type": "code",
      "source": [
        "# desvio padrão\n",
        "data[\"Movie Runtime\"].std()"
      ],
      "metadata": {
        "id": "ly3xGMX9UGUe",
        "colab": {
          "base_uri": "https://localhost:8080/"
        },
        "outputId": "09a091d2-d94b-4283-d06c-4341338d553e"
      },
      "execution_count": 28,
      "outputs": [
        {
          "output_type": "execute_result",
          "data": {
            "text/plain": [
              "0.3479287772304091"
            ]
          },
          "metadata": {},
          "execution_count": 28
        }
      ]
    },
    {
      "cell_type": "code",
      "source": [
        "# desvio médio absoluto\n",
        "data[\"Movie Runtime\"].mad()"
      ],
      "metadata": {
        "colab": {
          "base_uri": "https://localhost:8080/"
        },
        "id": "0PLgGOzps8Da",
        "outputId": "cae80346-954c-44c4-cdc0-95f3aea8b2f4"
      },
      "execution_count": 29,
      "outputs": [
        {
          "output_type": "execute_result",
          "data": {
            "text/plain": [
              "0.27727393547590895"
            ]
          },
          "metadata": {},
          "execution_count": 29
        }
      ]
    },
    {
      "cell_type": "markdown",
      "source": [
        "Vamos verificar a relação entre o valor arrecadado nacionalmente e internacionalmente."
      ],
      "metadata": {
        "id": "GdMROlixvgxH"
      }
    },
    {
      "cell_type": "code",
      "source": [
        "sns.scatterplot(data = data, x = 'Domestic Sales (in $)', y ='International Sales (in $)')\n",
        "plt.show()"
      ],
      "metadata": {
        "colab": {
          "base_uri": "https://localhost:8080/",
          "height": 279
        },
        "id": "fv_G5Tt1u4tH",
        "outputId": "b4e721fa-b8c2-4305-f0cd-93bd486967b7"
      },
      "execution_count": null,
      "outputs": [
        {
          "output_type": "display_data",
          "data": {
            "image/png": "[encoded data removed]",
            "text/plain": [
              "<Figure size 432x288 with 1 Axes>"
            ]
          },
          "metadata": {
            "needs_background": "light"
          }
        }
      ]
    },
    {
      "cell_type": "markdown",
      "source": [
        "**CONCLUSÃO:**\n",
        "- Na base temos 34 distribuidores que arrecadaram juntos 364 bilhões de dólares com o lançamento de 918 filmes.\n",
        "- Walt Disney, Warner Bros e Twentieth foram os 3 distribuidores que mais arrecadaram, juntos conseguiram 194 bilhões de dólares (53% do total) com 430 filmes lançados.\n",
        "- Já na visão de arrecadação média por filme, os distribuidores com maior retorno são Newmarket Films (612 milhões), Summit Entertainment\t(545 milhões) e Walt Disney (531 milhões)."
      ],
      "metadata": {
        "id": "HS8gpJHF0UhI"
      }
    }
  ]
}
